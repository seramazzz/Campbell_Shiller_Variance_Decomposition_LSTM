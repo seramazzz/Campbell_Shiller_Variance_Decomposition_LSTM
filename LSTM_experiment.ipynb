{
 "cells": [
  {
   "cell_type": "code",
   "execution_count": null,
   "metadata": {
    "colab": {
     "base_uri": "https://localhost:8080/"
    },
    "id": "LnWfOVmV26sm",
    "outputId": "2853da90-6a35-4590-da74-5b7d4125fa88"
   },
   "outputs": [
    {
     "name": "stderr",
     "output_type": "stream",
     "text": [
      "[nltk_data] Downloading package punkt to /root/nltk_data...\n",
      "[nltk_data]   Unzipping tokenizers/punkt.zip.\n"
     ]
    },
    {
     "name": "stdout",
     "output_type": "stream",
     "text": [
      "Initialisation Done! Make sure you have initialised ntlk punkt\n"
     ]
    }
   ],
   "source": [
    "import numpy as np\n",
    "import pandas as pd\n",
    "from __future__ import print_function\n",
    "from tensorflow.keras.layers import Activation, Dense, Dropout, SpatialDropout1D\n",
    "from tensorflow.keras.layers import Embedding\n",
    "from tensorflow.keras.layers import LSTM, Conv1D\n",
    "from tensorflow.keras.models import Sequential\n",
    "from tensorflow.keras.preprocessing import sequence\n",
    "from sklearn.model_selection import train_test_split\n",
    "from keras.regularizers import l1, l2\n",
    "from keras import optimizers\n",
    "import collections\n",
    "import matplotlib.pyplot as plt\n",
    "import nltk\n",
    "nltk.download('punkt') # download instruction required if pubkt nltk package not installed\n",
    "import os\n",
    "\n",
    "print(\"Initialisation Done! Make sure you have initialised ntlk punkt\")"
   ]
  },
  {
   "cell_type": "markdown",
   "metadata": {
    "id": "ybU8WrzbBVaD"
   },
   "source": [
    "# Data"
   ]
  },
  {
   "cell_type": "code",
   "execution_count": null,
   "metadata": {
    "colab": {
     "base_uri": "https://localhost:8080/",
     "height": 653
    },
    "id": "PVETtBbJBRRd",
    "outputId": "b91bf128-bbad-4fed-b146-0ee55e1c979f"
   },
   "outputs": [
    {
     "data": {
      "text/html": [
       "\n",
       "  <div id=\"df-4c067e71-5620-46d2-8c32-50bff07c991b\">\n",
       "    <div class=\"colab-df-container\">\n",
       "      <div>\n",
       "<style scoped>\n",
       "    .dataframe tbody tr th:only-of-type {\n",
       "        vertical-align: middle;\n",
       "    }\n",
       "\n",
       "    .dataframe tbody tr th {\n",
       "        vertical-align: top;\n",
       "    }\n",
       "\n",
       "    .dataframe thead th {\n",
       "        text-align: right;\n",
       "    }\n",
       "</style>\n",
       "<table border=\"1\" class=\"dataframe\">\n",
       "  <thead>\n",
       "    <tr style=\"text-align: right;\">\n",
       "      <th></th>\n",
       "      <th>Date</th>\n",
       "      <th>SP500</th>\n",
       "      <th>PH_SP500</th>\n",
       "      <th>PL_SP500</th>\n",
       "      <th>MV</th>\n",
       "      <th>DY</th>\n",
       "      <th>PE</th>\n",
       "      <th>Day</th>\n",
       "      <th>Month</th>\n",
       "      <th>Year</th>\n",
       "      <th>...</th>\n",
       "      <th>RV5</th>\n",
       "      <th>RV22</th>\n",
       "      <th>HAR_c</th>\n",
       "      <th>HAR_d</th>\n",
       "      <th>HAR_w</th>\n",
       "      <th>HAR_m</th>\n",
       "      <th>HAR_f</th>\n",
       "      <th>VIX</th>\n",
       "      <th>PH_VIX_t</th>\n",
       "      <th>PL_VIX_t</th>\n",
       "    </tr>\n",
       "  </thead>\n",
       "  <tbody>\n",
       "    <tr>\n",
       "      <th>0</th>\n",
       "      <td>2000-01-03</td>\n",
       "      <td>1455.22</td>\n",
       "      <td>1478.00</td>\n",
       "      <td>1438.36</td>\n",
       "      <td>12192660</td>\n",
       "      <td>1.10</td>\n",
       "      <td>31.3</td>\n",
       "      <td>3</td>\n",
       "      <td>1</td>\n",
       "      <td>2000</td>\n",
       "      <td>...</td>\n",
       "      <td>NaN</td>\n",
       "      <td>NaN</td>\n",
       "      <td>NaN</td>\n",
       "      <td>NaN</td>\n",
       "      <td>NaN</td>\n",
       "      <td>NaN</td>\n",
       "      <td>NaN</td>\n",
       "      <td>24.21</td>\n",
       "      <td>26.15</td>\n",
       "      <td>23.98</td>\n",
       "    </tr>\n",
       "    <tr>\n",
       "      <th>1</th>\n",
       "      <td>2000-01-04</td>\n",
       "      <td>1399.42</td>\n",
       "      <td>1455.22</td>\n",
       "      <td>1397.42</td>\n",
       "      <td>11728700</td>\n",
       "      <td>1.15</td>\n",
       "      <td>30.1</td>\n",
       "      <td>4</td>\n",
       "      <td>1</td>\n",
       "      <td>2000</td>\n",
       "      <td>...</td>\n",
       "      <td>NaN</td>\n",
       "      <td>NaN</td>\n",
       "      <td>NaN</td>\n",
       "      <td>NaN</td>\n",
       "      <td>NaN</td>\n",
       "      <td>NaN</td>\n",
       "      <td>NaN</td>\n",
       "      <td>27.01</td>\n",
       "      <td>27.18</td>\n",
       "      <td>24.80</td>\n",
       "    </tr>\n",
       "    <tr>\n",
       "      <th>2</th>\n",
       "      <td>2000-01-05</td>\n",
       "      <td>1402.11</td>\n",
       "      <td>1413.27</td>\n",
       "      <td>1377.68</td>\n",
       "      <td>11751280</td>\n",
       "      <td>1.15</td>\n",
       "      <td>30.1</td>\n",
       "      <td>5</td>\n",
       "      <td>1</td>\n",
       "      <td>2000</td>\n",
       "      <td>...</td>\n",
       "      <td>NaN</td>\n",
       "      <td>NaN</td>\n",
       "      <td>NaN</td>\n",
       "      <td>NaN</td>\n",
       "      <td>NaN</td>\n",
       "      <td>NaN</td>\n",
       "      <td>NaN</td>\n",
       "      <td>26.41</td>\n",
       "      <td>29.00</td>\n",
       "      <td>25.85</td>\n",
       "    </tr>\n",
       "    <tr>\n",
       "      <th>3</th>\n",
       "      <td>2000-01-06</td>\n",
       "      <td>1403.45</td>\n",
       "      <td>1411.91</td>\n",
       "      <td>1392.02</td>\n",
       "      <td>11766850</td>\n",
       "      <td>1.15</td>\n",
       "      <td>30.0</td>\n",
       "      <td>6</td>\n",
       "      <td>1</td>\n",
       "      <td>2000</td>\n",
       "      <td>...</td>\n",
       "      <td>NaN</td>\n",
       "      <td>NaN</td>\n",
       "      <td>NaN</td>\n",
       "      <td>NaN</td>\n",
       "      <td>NaN</td>\n",
       "      <td>NaN</td>\n",
       "      <td>NaN</td>\n",
       "      <td>25.73</td>\n",
       "      <td>26.71</td>\n",
       "      <td>24.70</td>\n",
       "    </tr>\n",
       "    <tr>\n",
       "      <th>4</th>\n",
       "      <td>2000-01-07</td>\n",
       "      <td>1441.47</td>\n",
       "      <td>1441.47</td>\n",
       "      <td>1400.53</td>\n",
       "      <td>12085680</td>\n",
       "      <td>1.11</td>\n",
       "      <td>31.0</td>\n",
       "      <td>7</td>\n",
       "      <td>1</td>\n",
       "      <td>2000</td>\n",
       "      <td>...</td>\n",
       "      <td>NaN</td>\n",
       "      <td>NaN</td>\n",
       "      <td>NaN</td>\n",
       "      <td>NaN</td>\n",
       "      <td>NaN</td>\n",
       "      <td>NaN</td>\n",
       "      <td>NaN</td>\n",
       "      <td>21.72</td>\n",
       "      <td>25.17</td>\n",
       "      <td>21.72</td>\n",
       "    </tr>\n",
       "    <tr>\n",
       "      <th>...</th>\n",
       "      <td>...</td>\n",
       "      <td>...</td>\n",
       "      <td>...</td>\n",
       "      <td>...</td>\n",
       "      <td>...</td>\n",
       "      <td>...</td>\n",
       "      <td>...</td>\n",
       "      <td>...</td>\n",
       "      <td>...</td>\n",
       "      <td>...</td>\n",
       "      <td>...</td>\n",
       "      <td>...</td>\n",
       "      <td>...</td>\n",
       "      <td>...</td>\n",
       "      <td>...</td>\n",
       "      <td>...</td>\n",
       "      <td>...</td>\n",
       "      <td>...</td>\n",
       "      <td>...</td>\n",
       "      <td>...</td>\n",
       "      <td>...</td>\n",
       "    </tr>\n",
       "    <tr>\n",
       "      <th>5648</th>\n",
       "      <td>2022-06-24</td>\n",
       "      <td>3911.74</td>\n",
       "      <td>3913.65</td>\n",
       "      <td>3821.75</td>\n",
       "      <td>32968140</td>\n",
       "      <td>1.62</td>\n",
       "      <td>19.6</td>\n",
       "      <td>24</td>\n",
       "      <td>6</td>\n",
       "      <td>2022</td>\n",
       "      <td>...</td>\n",
       "      <td>0.043342</td>\n",
       "      <td>0.079191</td>\n",
       "      <td>0.001051</td>\n",
       "      <td>0.505262</td>\n",
       "      <td>0.106462</td>\n",
       "      <td>0.000014</td>\n",
       "      <td>0.016387</td>\n",
       "      <td>27.23</td>\n",
       "      <td>29.72</td>\n",
       "      <td>26.83</td>\n",
       "    </tr>\n",
       "    <tr>\n",
       "      <th>5649</th>\n",
       "      <td>2022-06-27</td>\n",
       "      <td>3900.11</td>\n",
       "      <td>3927.72</td>\n",
       "      <td>3889.66</td>\n",
       "      <td>32870130</td>\n",
       "      <td>1.63</td>\n",
       "      <td>19.5</td>\n",
       "      <td>27</td>\n",
       "      <td>6</td>\n",
       "      <td>2022</td>\n",
       "      <td>...</td>\n",
       "      <td>0.035288</td>\n",
       "      <td>0.079273</td>\n",
       "      <td>0.001064</td>\n",
       "      <td>0.502685</td>\n",
       "      <td>0.107614</td>\n",
       "      <td>0.000014</td>\n",
       "      <td>0.014497</td>\n",
       "      <td>26.95</td>\n",
       "      <td>28.66</td>\n",
       "      <td>26.93</td>\n",
       "    </tr>\n",
       "    <tr>\n",
       "      <th>5650</th>\n",
       "      <td>2022-06-28</td>\n",
       "      <td>3821.55</td>\n",
       "      <td>3945.86</td>\n",
       "      <td>3820.14</td>\n",
       "      <td>32207950</td>\n",
       "      <td>1.66</td>\n",
       "      <td>19.1</td>\n",
       "      <td>28</td>\n",
       "      <td>6</td>\n",
       "      <td>2022</td>\n",
       "      <td>...</td>\n",
       "      <td>0.032960</td>\n",
       "      <td>0.077787</td>\n",
       "      <td>0.001136</td>\n",
       "      <td>0.501805</td>\n",
       "      <td>0.108558</td>\n",
       "      <td>0.000014</td>\n",
       "      <td>0.014911</td>\n",
       "      <td>28.36</td>\n",
       "      <td>28.68</td>\n",
       "      <td>26.47</td>\n",
       "    </tr>\n",
       "    <tr>\n",
       "      <th>5651</th>\n",
       "      <td>2022-06-29</td>\n",
       "      <td>3818.83</td>\n",
       "      <td>3836.50</td>\n",
       "      <td>3799.02</td>\n",
       "      <td>32185090</td>\n",
       "      <td>1.67</td>\n",
       "      <td>19.1</td>\n",
       "      <td>29</td>\n",
       "      <td>6</td>\n",
       "      <td>2022</td>\n",
       "      <td>...</td>\n",
       "      <td>0.030727</td>\n",
       "      <td>0.078308</td>\n",
       "      <td>0.001142</td>\n",
       "      <td>0.497651</td>\n",
       "      <td>0.108943</td>\n",
       "      <td>0.000014</td>\n",
       "      <td>0.012318</td>\n",
       "      <td>28.16</td>\n",
       "      <td>29.36</td>\n",
       "      <td>27.85</td>\n",
       "    </tr>\n",
       "    <tr>\n",
       "      <th>5652</th>\n",
       "      <td>2022-06-30</td>\n",
       "      <td>3785.38</td>\n",
       "      <td>3818.99</td>\n",
       "      <td>3738.67</td>\n",
       "      <td>31903200</td>\n",
       "      <td>1.69</td>\n",
       "      <td>18.9</td>\n",
       "      <td>30</td>\n",
       "      <td>6</td>\n",
       "      <td>2022</td>\n",
       "      <td>...</td>\n",
       "      <td>0.029414</td>\n",
       "      <td>0.078573</td>\n",
       "      <td>0.001173</td>\n",
       "      <td>0.495952</td>\n",
       "      <td>0.110533</td>\n",
       "      <td>0.000014</td>\n",
       "      <td>0.014163</td>\n",
       "      <td>28.71</td>\n",
       "      <td>30.22</td>\n",
       "      <td>28.28</td>\n",
       "    </tr>\n",
       "  </tbody>\n",
       "</table>\n",
       "<p>5653 rows × 29 columns</p>\n",
       "</div>\n",
       "      <button class=\"colab-df-convert\" onclick=\"convertToInteractive('df-4c067e71-5620-46d2-8c32-50bff07c991b')\"\n",
       "              title=\"Convert this dataframe to an interactive table.\"\n",
       "              style=\"display:none;\">\n",
       "        \n",
       "  <svg xmlns=\"http://www.w3.org/2000/svg\" height=\"24px\"viewBox=\"0 0 24 24\"\n",
       "       width=\"24px\">\n",
       "    <path d=\"M0 0h24v24H0V0z\" fill=\"none\"/>\n",
       "    <path d=\"M18.56 5.44l.94 2.06.94-2.06 2.06-.94-2.06-.94-.94-2.06-.94 2.06-2.06.94zm-11 1L8.5 8.5l.94-2.06 2.06-.94-2.06-.94L8.5 2.5l-.94 2.06-2.06.94zm10 10l.94 2.06.94-2.06 2.06-.94-2.06-.94-.94-2.06-.94 2.06-2.06.94z\"/><path d=\"M17.41 7.96l-1.37-1.37c-.4-.4-.92-.59-1.43-.59-.52 0-1.04.2-1.43.59L10.3 9.45l-7.72 7.72c-.78.78-.78 2.05 0 2.83L4 21.41c.39.39.9.59 1.41.59.51 0 1.02-.2 1.41-.59l7.78-7.78 2.81-2.81c.8-.78.8-2.07 0-2.86zM5.41 20L4 18.59l7.72-7.72 1.47 1.35L5.41 20z\"/>\n",
       "  </svg>\n",
       "      </button>\n",
       "      \n",
       "  <style>\n",
       "    .colab-df-container {\n",
       "      display:flex;\n",
       "      flex-wrap:wrap;\n",
       "      gap: 12px;\n",
       "    }\n",
       "\n",
       "    .colab-df-convert {\n",
       "      background-color: #E8F0FE;\n",
       "      border: none;\n",
       "      border-radius: 50%;\n",
       "      cursor: pointer;\n",
       "      display: none;\n",
       "      fill: #1967D2;\n",
       "      height: 32px;\n",
       "      padding: 0 0 0 0;\n",
       "      width: 32px;\n",
       "    }\n",
       "\n",
       "    .colab-df-convert:hover {\n",
       "      background-color: #E2EBFA;\n",
       "      box-shadow: 0px 1px 2px rgba(60, 64, 67, 0.3), 0px 1px 3px 1px rgba(60, 64, 67, 0.15);\n",
       "      fill: #174EA6;\n",
       "    }\n",
       "\n",
       "    [theme=dark] .colab-df-convert {\n",
       "      background-color: #3B4455;\n",
       "      fill: #D2E3FC;\n",
       "    }\n",
       "\n",
       "    [theme=dark] .colab-df-convert:hover {\n",
       "      background-color: #434B5C;\n",
       "      box-shadow: 0px 1px 3px 1px rgba(0, 0, 0, 0.15);\n",
       "      filter: drop-shadow(0px 1px 2px rgba(0, 0, 0, 0.3));\n",
       "      fill: #FFFFFF;\n",
       "    }\n",
       "  </style>\n",
       "\n",
       "      <script>\n",
       "        const buttonEl =\n",
       "          document.querySelector('#df-4c067e71-5620-46d2-8c32-50bff07c991b button.colab-df-convert');\n",
       "        buttonEl.style.display =\n",
       "          google.colab.kernel.accessAllowed ? 'block' : 'none';\n",
       "\n",
       "        async function convertToInteractive(key) {\n",
       "          const element = document.querySelector('#df-4c067e71-5620-46d2-8c32-50bff07c991b');\n",
       "          const dataTable =\n",
       "            await google.colab.kernel.invokeFunction('convertToInteractive',\n",
       "                                                     [key], {});\n",
       "          if (!dataTable) return;\n",
       "\n",
       "          const docLinkHtml = 'Like what you see? Visit the ' +\n",
       "            '<a target=\"_blank\" href=https://colab.research.google.com/notebooks/data_table.ipynb>data table notebook</a>'\n",
       "            + ' to learn more about interactive tables.';\n",
       "          element.innerHTML = '';\n",
       "          dataTable['output_type'] = 'display_data';\n",
       "          await google.colab.output.renderOutput(dataTable, element);\n",
       "          const docLink = document.createElement('div');\n",
       "          docLink.innerHTML = docLinkHtml;\n",
       "          element.appendChild(docLink);\n",
       "        }\n",
       "      </script>\n",
       "    </div>\n",
       "  </div>\n",
       "  "
      ],
      "text/plain": [
       "           Date    SP500  PH_SP500  PL_SP500        MV    DY    PE  Day  \\\n",
       "0    2000-01-03  1455.22   1478.00   1438.36  12192660  1.10  31.3    3   \n",
       "1    2000-01-04  1399.42   1455.22   1397.42  11728700  1.15  30.1    4   \n",
       "2    2000-01-05  1402.11   1413.27   1377.68  11751280  1.15  30.1    5   \n",
       "3    2000-01-06  1403.45   1411.91   1392.02  11766850  1.15  30.0    6   \n",
       "4    2000-01-07  1441.47   1441.47   1400.53  12085680  1.11  31.0    7   \n",
       "...         ...      ...       ...       ...       ...   ...   ...  ...   \n",
       "5648 2022-06-24  3911.74   3913.65   3821.75  32968140  1.62  19.6   24   \n",
       "5649 2022-06-27  3900.11   3927.72   3889.66  32870130  1.63  19.5   27   \n",
       "5650 2022-06-28  3821.55   3945.86   3820.14  32207950  1.66  19.1   28   \n",
       "5651 2022-06-29  3818.83   3836.50   3799.02  32185090  1.67  19.1   29   \n",
       "5652 2022-06-30  3785.38   3818.99   3738.67  31903200  1.69  18.9   30   \n",
       "\n",
       "      Month  Year  ...       RV5      RV22     HAR_c     HAR_d     HAR_w  \\\n",
       "0         1  2000  ...       NaN       NaN       NaN       NaN       NaN   \n",
       "1         1  2000  ...       NaN       NaN       NaN       NaN       NaN   \n",
       "2         1  2000  ...       NaN       NaN       NaN       NaN       NaN   \n",
       "3         1  2000  ...       NaN       NaN       NaN       NaN       NaN   \n",
       "4         1  2000  ...       NaN       NaN       NaN       NaN       NaN   \n",
       "...     ...   ...  ...       ...       ...       ...       ...       ...   \n",
       "5648      6  2022  ...  0.043342  0.079191  0.001051  0.505262  0.106462   \n",
       "5649      6  2022  ...  0.035288  0.079273  0.001064  0.502685  0.107614   \n",
       "5650      6  2022  ...  0.032960  0.077787  0.001136  0.501805  0.108558   \n",
       "5651      6  2022  ...  0.030727  0.078308  0.001142  0.497651  0.108943   \n",
       "5652      6  2022  ...  0.029414  0.078573  0.001173  0.495952  0.110533   \n",
       "\n",
       "         HAR_m     HAR_f    VIX  PH_VIX_t  PL_VIX_t  \n",
       "0          NaN       NaN  24.21     26.15     23.98  \n",
       "1          NaN       NaN  27.01     27.18     24.80  \n",
       "2          NaN       NaN  26.41     29.00     25.85  \n",
       "3          NaN       NaN  25.73     26.71     24.70  \n",
       "4          NaN       NaN  21.72     25.17     21.72  \n",
       "...        ...       ...    ...       ...       ...  \n",
       "5648  0.000014  0.016387  27.23     29.72     26.83  \n",
       "5649  0.000014  0.014497  26.95     28.66     26.93  \n",
       "5650  0.000014  0.014911  28.36     28.68     26.47  \n",
       "5651  0.000014  0.012318  28.16     29.36     27.85  \n",
       "5652  0.000014  0.014163  28.71     30.22     28.28  \n",
       "\n",
       "[5653 rows x 29 columns]"
      ]
     },
     "execution_count": 5,
     "metadata": {},
     "output_type": "execute_result"
    }
   ],
   "source": [
    "data = pd.read_excel(\"Data_Prepared.xlsx\")\n",
    "data"
   ]
  },
  {
   "cell_type": "markdown",
   "metadata": {
    "id": "-Ml7Sl4tC6Oa"
   },
   "source": [
    "## Vanilla LSTM"
   ]
  },
  {
   "cell_type": "code",
   "execution_count": null,
   "metadata": {
    "id": "J5Vl3GOSDHxC"
   },
   "outputs": [],
   "source": [
    "def split_sequence(sequence, n_steps):\n",
    "    X, y = list(), list()\n",
    "    for i in range(len(sequence)):\n",
    "        end_ix = i + n_steps\n",
    "        if end_ix > len(sequence)-1:\n",
    "            break\n",
    "        seq_x, seq_y = sequence[i:end_ix], sequence[end_ix]\n",
    "        X.append(seq_x)\n",
    "        y.append(seq_y)\n",
    "    return np.array(X), np.array(y)"
   ]
  },
  {
   "cell_type": "code",
   "execution_count": null,
   "metadata": {
    "colab": {
     "base_uri": "https://localhost:8080/"
    },
    "id": "oITxwoLqB4C_",
    "outputId": "f8a8030d-2654-4970-ff11-0d5530565fdb"
   },
   "outputs": [
    {
     "name": "stdout",
     "output_type": "stream",
     "text": [
      "Model: \"sequential\"\n",
      "_________________________________________________________________\n",
      " Layer (type)                Output Shape              Param #   \n",
      "=================================================================\n",
      " lstm (LSTM)                 (None, 22, 100)           40800     \n",
      "                                                                 \n",
      " dropout (Dropout)           (None, 22, 100)           0         \n",
      "                                                                 \n",
      " lstm_1 (LSTM)               (None, 22, 40)            22560     \n",
      "                                                                 \n",
      " dropout_1 (Dropout)         (None, 22, 40)            0         \n",
      "                                                                 \n",
      " lstm_2 (LSTM)               (None, 20)                4880      \n",
      "                                                                 \n",
      " dropout_2 (Dropout)         (None, 20)                0         \n",
      "                                                                 \n",
      " dense (Dense)               (None, 5)                 105       \n",
      "                                                                 \n",
      " dense_1 (Dense)             (None, 1)                 6         \n",
      "                                                                 \n",
      "=================================================================\n",
      "Total params: 68,351\n",
      "Trainable params: 68,351\n",
      "Non-trainable params: 0\n",
      "_________________________________________________________________\n"
     ]
    }
   ],
   "source": [
    "# realised volatiltiy\n",
    "np.random.seed(888) # for reproducibility\n",
    "RV = np.sqrt(data[\"RV\"].values)\n",
    "tr_fr = 0.8 # the fraction of training data\n",
    "RV_train = RV[:round(len(RV)*tr_fr)]\n",
    "RV_val = RV[round(len(RV)*tr_fr):]\n",
    "n_steps = 22 # one month approx\n",
    "X_tr, y_tr = split_sequence(RV_train, n_steps)\n",
    "X_val, y_val = split_sequence(RV_val, n_steps)\n",
    "n_features = 1 # We have only RV yet\n",
    "X_tr = X_tr.reshape((X_tr.shape[0], X_tr.shape[1], n_features))\n",
    "X_val = X_val.reshape((X_val.shape[0], X_val.shape[1], n_features))\n",
    "# define model\n",
    "model = Sequential()\n",
    "model.add(LSTM(100, activation='tanh', return_sequences=True, input_shape=(n_steps, n_features)))\n",
    "model.add(Dropout(0.3))\n",
    "model.add(LSTM(40, activation='tanh', return_sequences=True, input_shape=(n_steps, n_features)))\n",
    "model.add(Dropout(0.8))\n",
    "model.add(LSTM(20, activation='tanh', input_shape=(n_steps, n_features)))\n",
    "model.add(Dropout(0.8))\n",
    "model.add(Dense(5))\n",
    "model.add(Dense(1))\n",
    "adam = optimizers.Adam(learning_rate=0.0001)\n",
    "model.compile(optimizer=adam, loss='mean_squared_error', metrics=[\"MeanSquaredError\"])\n",
    "model.summary()"
   ]
  },
  {
   "cell_type": "code",
   "execution_count": null,
   "metadata": {
    "colab": {
     "base_uri": "https://localhost:8080/"
    },
    "id": "XT3j0m4uGKXC",
    "outputId": "48a48fc1-2a32-4966-df2e-ec952bec0eeb"
   },
   "outputs": [
    {
     "name": "stdout",
     "output_type": "stream",
     "text": [
      "Epoch 1/30\n",
      "282/282 [==============================] - 14s 35ms/step - loss: 4.1787e-05 - mean_squared_error: 4.1787e-05 - val_loss: 5.3773e-05 - val_mean_squared_error: 5.3773e-05\n",
      "Epoch 2/30\n",
      "282/282 [==============================] - 9s 31ms/step - loss: 3.1965e-05 - mean_squared_error: 3.1965e-05 - val_loss: 5.5810e-05 - val_mean_squared_error: 5.5810e-05\n",
      "Epoch 3/30\n",
      "282/282 [==============================] - 8s 30ms/step - loss: 3.0596e-05 - mean_squared_error: 3.0596e-05 - val_loss: 4.8684e-05 - val_mean_squared_error: 4.8684e-05\n",
      "Epoch 4/30\n",
      "282/282 [==============================] - 9s 32ms/step - loss: 2.9764e-05 - mean_squared_error: 2.9764e-05 - val_loss: 4.7129e-05 - val_mean_squared_error: 4.7129e-05\n",
      "Epoch 5/30\n",
      "282/282 [==============================] - 9s 31ms/step - loss: 2.8339e-05 - mean_squared_error: 2.8339e-05 - val_loss: 4.7136e-05 - val_mean_squared_error: 4.7136e-05\n",
      "Epoch 6/30\n",
      "282/282 [==============================] - 8s 30ms/step - loss: 2.7262e-05 - mean_squared_error: 2.7262e-05 - val_loss: 4.5938e-05 - val_mean_squared_error: 4.5938e-05\n",
      "Epoch 7/30\n",
      "282/282 [==============================] - 9s 30ms/step - loss: 2.6566e-05 - mean_squared_error: 2.6566e-05 - val_loss: 4.5452e-05 - val_mean_squared_error: 4.5452e-05\n",
      "Epoch 8/30\n",
      "282/282 [==============================] - 9s 31ms/step - loss: 2.7821e-05 - mean_squared_error: 2.7821e-05 - val_loss: 4.4957e-05 - val_mean_squared_error: 4.4957e-05\n",
      "Epoch 9/30\n",
      "282/282 [==============================] - 9s 31ms/step - loss: 2.6920e-05 - mean_squared_error: 2.6920e-05 - val_loss: 4.5573e-05 - val_mean_squared_error: 4.5573e-05\n",
      "Epoch 10/30\n",
      "282/282 [==============================] - 8s 30ms/step - loss: 2.6662e-05 - mean_squared_error: 2.6662e-05 - val_loss: 4.8838e-05 - val_mean_squared_error: 4.8838e-05\n",
      "Epoch 11/30\n",
      "282/282 [==============================] - 9s 31ms/step - loss: 2.7169e-05 - mean_squared_error: 2.7169e-05 - val_loss: 4.7282e-05 - val_mean_squared_error: 4.7282e-05\n",
      "Epoch 12/30\n",
      "282/282 [==============================] - 9s 31ms/step - loss: 2.6067e-05 - mean_squared_error: 2.6067e-05 - val_loss: 4.3671e-05 - val_mean_squared_error: 4.3671e-05\n",
      "Epoch 13/30\n",
      "282/282 [==============================] - 9s 30ms/step - loss: 2.5061e-05 - mean_squared_error: 2.5061e-05 - val_loss: 4.2898e-05 - val_mean_squared_error: 4.2898e-05\n",
      "Epoch 14/30\n",
      "282/282 [==============================] - 8s 30ms/step - loss: 2.4408e-05 - mean_squared_error: 2.4408e-05 - val_loss: 4.4243e-05 - val_mean_squared_error: 4.4243e-05\n",
      "Epoch 15/30\n",
      "282/282 [==============================] - 9s 31ms/step - loss: 2.5254e-05 - mean_squared_error: 2.5254e-05 - val_loss: 4.2682e-05 - val_mean_squared_error: 4.2682e-05\n",
      "Epoch 16/30\n",
      "282/282 [==============================] - 9s 31ms/step - loss: 2.4784e-05 - mean_squared_error: 2.4784e-05 - val_loss: 4.5540e-05 - val_mean_squared_error: 4.5540e-05\n",
      "Epoch 17/30\n",
      "282/282 [==============================] - 8s 29ms/step - loss: 2.4613e-05 - mean_squared_error: 2.4613e-05 - val_loss: 4.5688e-05 - val_mean_squared_error: 4.5688e-05\n",
      "Epoch 18/30\n",
      "282/282 [==============================] - 9s 31ms/step - loss: 2.4486e-05 - mean_squared_error: 2.4486e-05 - val_loss: 4.1940e-05 - val_mean_squared_error: 4.1940e-05\n",
      "Epoch 19/30\n",
      "282/282 [==============================] - 9s 31ms/step - loss: 2.5340e-05 - mean_squared_error: 2.5340e-05 - val_loss: 4.1572e-05 - val_mean_squared_error: 4.1572e-05\n",
      "Epoch 20/30\n",
      "282/282 [==============================] - 9s 31ms/step - loss: 2.5288e-05 - mean_squared_error: 2.5288e-05 - val_loss: 4.2058e-05 - val_mean_squared_error: 4.2058e-05\n",
      "Epoch 21/30\n",
      "282/282 [==============================] - 8s 30ms/step - loss: 2.3424e-05 - mean_squared_error: 2.3424e-05 - val_loss: 4.1076e-05 - val_mean_squared_error: 4.1076e-05\n",
      "Epoch 22/30\n",
      "282/282 [==============================] - 9s 31ms/step - loss: 2.4409e-05 - mean_squared_error: 2.4409e-05 - val_loss: 4.0888e-05 - val_mean_squared_error: 4.0888e-05\n",
      "Epoch 23/30\n",
      "282/282 [==============================] - 9s 31ms/step - loss: 2.4126e-05 - mean_squared_error: 2.4126e-05 - val_loss: 4.0487e-05 - val_mean_squared_error: 4.0487e-05\n",
      "Epoch 24/30\n",
      "282/282 [==============================] - 8s 30ms/step - loss: 2.3527e-05 - mean_squared_error: 2.3527e-05 - val_loss: 4.0270e-05 - val_mean_squared_error: 4.0270e-05\n",
      "Epoch 25/30\n",
      "282/282 [==============================] - 9s 30ms/step - loss: 2.3931e-05 - mean_squared_error: 2.3931e-05 - val_loss: 4.0474e-05 - val_mean_squared_error: 4.0474e-05\n",
      "Epoch 26/30\n",
      "282/282 [==============================] - 9s 31ms/step - loss: 2.5260e-05 - mean_squared_error: 2.5260e-05 - val_loss: 4.2061e-05 - val_mean_squared_error: 4.2061e-05\n",
      "Epoch 27/30\n",
      "282/282 [==============================] - 9s 31ms/step - loss: 2.3396e-05 - mean_squared_error: 2.3396e-05 - val_loss: 4.0060e-05 - val_mean_squared_error: 4.0060e-05\n",
      "Epoch 28/30\n",
      "282/282 [==============================] - 8s 30ms/step - loss: 2.3380e-05 - mean_squared_error: 2.3380e-05 - val_loss: 3.9592e-05 - val_mean_squared_error: 3.9592e-05\n",
      "Epoch 29/30\n",
      "282/282 [==============================] - 9s 31ms/step - loss: 2.3397e-05 - mean_squared_error: 2.3397e-05 - val_loss: 4.0827e-05 - val_mean_squared_error: 4.0827e-05\n",
      "Epoch 30/30\n",
      "282/282 [==============================] - 9s 31ms/step - loss: 2.2297e-05 - mean_squared_error: 2.2297e-05 - val_loss: 3.9502e-05 - val_mean_squared_error: 3.9502e-05\n"
     ]
    }
   ],
   "source": [
    "# fit model\n",
    "history = model.fit(X_tr, y_tr, batch_size=16, epochs=30, validation_data=(X_val, y_val))\n",
    "# demonstrate prediction\n",
    "#x_input = array([70, 80, 90])\n",
    "#x_input = x_input.reshape((1, n_steps, n_features))\n",
    "#yhat = model.predict(x_input, verbose=0)\n",
    "#print(yhat)"
   ]
  },
  {
   "cell_type": "code",
   "execution_count": null,
   "metadata": {
    "colab": {
     "base_uri": "https://localhost:8080/"
    },
    "id": "SMMMBy_jmSHq",
    "outputId": "32450053-87e3-4daa-8190-c2960b344a45"
   },
   "outputs": [
    {
     "data": {
      "text/plain": [
       "7.266253e-05"
      ]
     },
     "execution_count": 26,
     "metadata": {},
     "output_type": "execute_result"
    }
   ],
   "source": [
    "error = []\n",
    "RVfact = np.sqrt(data[\"RV\"].values)\n",
    "RVfact = RVfact[round(len(RVfact)*tr_fr)-n_steps+1:len(RVfact)]\n",
    "RVfact_X, RVfact_Y = split_sequence(RVfact, n_steps)\n",
    "RVfact_X = RVfact_X.reshape((RVfact_X.shape[0], RVfact_X.shape[1], n_features))\n",
    "for i in range(len(RVfact_Y)):\n",
    "    RVhat = model.predict(RVfact_X[i], verbose=0)\n",
    "    error.append((RVhat - RVfact_Y[i])**2)\n",
    "np.mean(error) * 100"
   ]
  },
  {
   "cell_type": "markdown",
   "metadata": {
    "id": "PS4j7pIBjrji"
   },
   "source": [
    "## HAR-RV"
   ]
  },
  {
   "cell_type": "code",
   "execution_count": null,
   "metadata": {
    "colab": {
     "base_uri": "https://localhost:8080/"
    },
    "id": "3NI7a8qUjqbY",
    "outputId": "d51dc79d-34dc-4f4f-9251-6d1e2744a091"
   },
   "outputs": [
    {
     "data": {
      "text/plain": [
       "0.003215642937576685"
      ]
     },
     "execution_count": 38,
     "metadata": {},
     "output_type": "execute_result"
    }
   ],
   "source": [
    "RVpred = data[\"HAR_f\"].values\n",
    "RVpred = RVpred[round(len(RVpred)*tr_fr):len(RVpred)-1]\n",
    "RVfact = np.sqrt(data[\"RV\"].values)\n",
    "RVfact = RVfact[round(len(RVfact)*tr_fr)+1:len(RVfact)]\n",
    "MSE = np.mean(np.square(RVfact-RVpred))\n",
    "MSE * 100"
   ]
  },
  {
   "cell_type": "markdown",
   "metadata": {
    "id": "dijqG2k_mA8_"
   },
   "source": [
    "## GARCH(1, 1)"
   ]
  },
  {
   "cell_type": "code",
   "execution_count": null,
   "metadata": {
    "colab": {
     "base_uri": "https://localhost:8080/"
    },
    "id": "Qq1GXOlFmAI5",
    "outputId": "b27dd07e-5912-4740-eca2-456e2454deed"
   },
   "outputs": [
    {
     "data": {
      "text/plain": [
       "0.007870731648188188"
      ]
     },
     "execution_count": 17,
     "metadata": {},
     "output_type": "execute_result"
    }
   ],
   "source": [
    "RVpred = np.sqrt(data[\"GARCH_frcst\"].values)\n",
    "RVpred = RVpred[round(len(RVpred)*tr_fr):len(RVpred)-1]\n",
    "RVfact = np.sqrt(data[\"RV\"].values)\n",
    "RVfact = RVfact[round(len(RVfact)*tr_fr)+1:len(RVfact)]\n",
    "MSE = np.mean(np.square(RVfact-RVpred))\n",
    "MSE * 100"
   ]
  },
  {
   "cell_type": "code",
   "execution_count": null,
   "metadata": {
    "colab": {
     "base_uri": "https://localhost:8080/"
    },
    "id": "1_fA3unPlKTF",
    "outputId": "0c92599d-7a9b-41b0-b42d-45b6de99b79e"
   },
   "outputs": [
    {
     "data": {
      "text/plain": [
       "array([[           nan,            nan,            nan],\n",
       "       [           nan,            nan,            nan],\n",
       "       [           nan,            nan,            nan],\n",
       "       ...,\n",
       "       [2.08450124e-06, 1.17402228e-01, 8.68708285e-01],\n",
       "       [2.08571099e-06, 1.17460507e-01, 8.68651703e-01],\n",
       "       [2.08407010e-06, 1.17369608e-01, 8.68743319e-01]])"
      ]
     },
     "execution_count": 14,
     "metadata": {},
     "output_type": "execute_result"
    }
   ],
   "source": [
    "data[[\"GARCH_omega\",\"GARCH_alpha\",\"GARCH_beta\",\"DY\"]].values"
   ]
  },
  {
   "cell_type": "code",
   "execution_count": null,
   "metadata": {
    "colab": {
     "base_uri": "https://localhost:8080/"
    },
    "id": "WKh__LyEXx7w",
    "outputId": "7394d753-29af-4aa2-a7d0-62d2d4efff55"
   },
   "outputs": [
    {
     "data": {
      "text/plain": [
       "array([0.01004186, 0.01134438, 0.01055621, ..., 0.01491056, 0.012318  ,\n",
       "       0.01416321])"
      ]
     },
     "execution_count": 12,
     "metadata": {},
     "output_type": "execute_result"
    }
   ],
   "source": [
    "data[\"HAR_f\"].values[272:]"
   ]
  },
  {
   "cell_type": "code",
   "execution_count": null,
   "metadata": {
    "id": "MYgkZOnfllhg"
   },
   "outputs": [],
   "source": [
    "# Explanatory variables\n",
    "#omega = data[\"GARCH_omega\"].values\n",
    "#omega = omega[2400:len(omega)-1]\n",
    "#alpha = data[\"GARCH_alpha\"].values\n",
    "#alpha = alpha[2400:len(alpha)-1]\n",
    "#beta = data[\"GARCH_beta\"].values\n",
    "#beta = beta[2400:len(beta)-1]\n",
    "#vix = data[\"VIX\"].values\n",
    "#vix = vix[2400:len(vix)-1]\n",
    "dy = data[\"DY\"].values\n",
    "dy = dy[272:len(dy)-1]\n",
    "rvp = np.sqrt(data[\"RV\"].values)\n",
    "rvp = rvp[272:len(rvp)-1]\n",
    "#rf = data[\"RF\"].values\n",
    "#rf = rf[2400:len(rf)-1]\n",
    "logret = data[\"LogRet\"].values\n",
    "logret = logret[272:len(logret)-1]\n",
    "frcst = data[\"HAR_f\"].values\n",
    "frcst = frcst[272:len(frcst)-1]\n",
    "\n",
    "# variable of interest\n",
    "rvf = np.sqrt(data[\"RV\"].values)\n",
    "rvf = rvf[272+1:len(rvf)]\n",
    "\n",
    "# All together\n",
    "dataset = np.vstack(\n",
    "    (\n",
    "        #omega,\n",
    "        #alpha,\n",
    "        #beta,\n",
    "        #vix,\n",
    "        dy,\n",
    "        rvp,\n",
    "        #rf,\n",
    "        logret,\n",
    "        frcst,\n",
    "        rvf\n",
    "    )\n",
    ").T"
   ]
  },
  {
   "cell_type": "code",
   "execution_count": null,
   "metadata": {
    "id": "Ml8KVXiP3ESP"
   },
   "outputs": [],
   "source": [
    "def split_sequences(sequences, n_steps):\n",
    "    X, y = list(), list()\n",
    "    for i in range(len(sequences)):\n",
    "        end_ix = i + n_steps\n",
    "        if end_ix > len(sequences):\n",
    "            break\n",
    "        seq_x, seq_y = sequences[i:end_ix, :-1], sequences[end_ix-1, -1]\n",
    "        X.append(seq_x)\n",
    "        y.append(seq_y)\n",
    "    return np.array(X), np.array(y)"
   ]
  },
  {
   "cell_type": "code",
   "execution_count": null,
   "metadata": {
    "colab": {
     "base_uri": "https://localhost:8080/",
     "height": 232
    },
    "id": "G0uEqf7t3Zq_",
    "outputId": "eaff3bf5-e336-487f-b0d3-bcaa09e6833b"
   },
   "outputs": [
    {
     "ename": "NameError",
     "evalue": "ignored",
     "output_type": "error",
     "traceback": [
      "\u001b[0;31m---------------------------------------------------------------------------\u001b[0m",
      "\u001b[0;31mNameError\u001b[0m                                 Traceback (most recent call last)",
      "\u001b[0;32m<ipython-input-4-bc71c9b13a4b>\u001b[0m in \u001b[0;36m<cell line: 3>\u001b[0;34m()\u001b[0m\n\u001b[1;32m      1\u001b[0m \u001b[0mnp\u001b[0m\u001b[0;34m.\u001b[0m\u001b[0mrandom\u001b[0m\u001b[0;34m.\u001b[0m\u001b[0mseed\u001b[0m\u001b[0;34m(\u001b[0m\u001b[0;36m888\u001b[0m\u001b[0;34m)\u001b[0m \u001b[0;31m# for reproducibility\u001b[0m\u001b[0;34m\u001b[0m\u001b[0;34m\u001b[0m\u001b[0m\n\u001b[1;32m      2\u001b[0m \u001b[0mtr_fr\u001b[0m \u001b[0;34m=\u001b[0m \u001b[0;36m0.8\u001b[0m \u001b[0;31m# the fraction of training data\u001b[0m\u001b[0;34m\u001b[0m\u001b[0;34m\u001b[0m\u001b[0m\n\u001b[0;32m----> 3\u001b[0;31m \u001b[0mtrain\u001b[0m \u001b[0;34m=\u001b[0m \u001b[0mdataset\u001b[0m\u001b[0;34m[\u001b[0m\u001b[0;34m:\u001b[0m\u001b[0mround\u001b[0m\u001b[0;34m(\u001b[0m\u001b[0mlen\u001b[0m\u001b[0;34m(\u001b[0m\u001b[0mdataset\u001b[0m\u001b[0;34m)\u001b[0m\u001b[0;34m*\u001b[0m\u001b[0mtr_fr\u001b[0m\u001b[0;34m)\u001b[0m\u001b[0;34m]\u001b[0m\u001b[0;34m\u001b[0m\u001b[0;34m\u001b[0m\u001b[0m\n\u001b[0m\u001b[1;32m      4\u001b[0m \u001b[0mval\u001b[0m \u001b[0;34m=\u001b[0m \u001b[0mdataset\u001b[0m\u001b[0;34m[\u001b[0m\u001b[0mround\u001b[0m\u001b[0;34m(\u001b[0m\u001b[0mlen\u001b[0m\u001b[0;34m(\u001b[0m\u001b[0mdataset\u001b[0m\u001b[0;34m)\u001b[0m\u001b[0;34m*\u001b[0m\u001b[0mtr_fr\u001b[0m\u001b[0;34m)\u001b[0m\u001b[0;34m:\u001b[0m\u001b[0;34m]\u001b[0m\u001b[0;34m\u001b[0m\u001b[0;34m\u001b[0m\u001b[0m\n\u001b[1;32m      5\u001b[0m \u001b[0mn_steps\u001b[0m \u001b[0;34m=\u001b[0m \u001b[0;36m22\u001b[0m\u001b[0;34m\u001b[0m\u001b[0;34m\u001b[0m\u001b[0m\n",
      "\u001b[0;31mNameError\u001b[0m: name 'dataset' is not defined"
     ]
    }
   ],
   "source": [
    "np.random.seed(888) # for reproducibility\n",
    "tr_fr = 0.8 # the fraction of training data\n",
    "train = dataset[:round(len(dataset)*tr_fr)]\n",
    "val = dataset[round(len(dataset)*tr_fr):]\n",
    "n_steps = 22\n",
    "# convert into input/output\n",
    "X_tr, y_tr = split_sequences(train, n_steps)\n",
    "X_val, y_val = split_sequences(val, n_steps)\n",
    "n_features = X_tr.shape[2]\n",
    "model = Sequential()\n",
    "model.add(Conv1D(filters=64, kernel_size=3, activation='relu', input_shape=(n_steps, n_features)))\n",
    "model.add(LSTM(128, activation='tanh', return_sequences=True, input_shape=(n_steps, n_features))) # , kernel_regularizer=l1(0.001)\n",
    "model.add(Dropout(0.3))\n",
    "model.add(LSTM(64, activation='tanh', return_sequences=True, input_shape=(n_steps, n_features))) # , kernel_regularizer=l1(0.001)\n",
    "model.add(Dropout(0.8))\n",
    "model.add(LSTM(32, activation='tanh', input_shape=(n_steps, n_features)))\n",
    "model.add(Dropout(0.8))\n",
    "model.add(Dense(16))\n",
    "model.add(Dense(1))\n",
    "adam = optimizers.Adam(learning_rate=0.0001)\n",
    "model.compile(optimizer=adam, loss='mean_squared_error', metrics=[\"MeanSquaredError\"])\n",
    "model.summary()"
   ]
  },
  {
   "cell_type": "code",
   "execution_count": null,
   "metadata": {
    "colab": {
     "base_uri": "https://localhost:8080/",
     "height": 1000
    },
    "id": "rLU-ifrd3jB9",
    "outputId": "c3952ba5-ef27-4176-de82-51ade89d5d73"
   },
   "outputs": [
    {
     "name": "stdout",
     "output_type": "stream",
     "text": [
      "Epoch 1/150\n",
      "857/857 [==============================] - 37s 43ms/step - loss: 2.3255e-05 - mean_squared_error: 2.3255e-05 - val_loss: 5.1147e-05 - val_mean_squared_error: 5.1147e-05\n",
      "Epoch 2/150\n",
      "857/857 [==============================] - 39s 45ms/step - loss: 2.3570e-05 - mean_squared_error: 2.3570e-05 - val_loss: 4.7343e-05 - val_mean_squared_error: 4.7343e-05\n",
      "Epoch 3/150\n",
      "857/857 [==============================] - 37s 43ms/step - loss: 2.2033e-05 - mean_squared_error: 2.2033e-05 - val_loss: 3.9445e-05 - val_mean_squared_error: 3.9445e-05\n",
      "Epoch 4/150\n",
      "857/857 [==============================] - 37s 43ms/step - loss: 2.3284e-05 - mean_squared_error: 2.3284e-05 - val_loss: 3.9017e-05 - val_mean_squared_error: 3.9017e-05\n",
      "Epoch 5/150\n",
      "857/857 [==============================] - 37s 44ms/step - loss: 2.3632e-05 - mean_squared_error: 2.3632e-05 - val_loss: 3.9441e-05 - val_mean_squared_error: 3.9441e-05\n",
      "Epoch 6/150\n",
      "857/857 [==============================] - 38s 44ms/step - loss: 2.1787e-05 - mean_squared_error: 2.1787e-05 - val_loss: 4.1550e-05 - val_mean_squared_error: 4.1550e-05\n",
      "Epoch 7/150\n",
      "857/857 [==============================] - 37s 43ms/step - loss: 2.1850e-05 - mean_squared_error: 2.1850e-05 - val_loss: 4.0745e-05 - val_mean_squared_error: 4.0745e-05\n",
      "Epoch 8/150\n",
      "857/857 [==============================] - 38s 44ms/step - loss: 2.3001e-05 - mean_squared_error: 2.3001e-05 - val_loss: 3.8351e-05 - val_mean_squared_error: 3.8351e-05\n",
      "Epoch 9/150\n",
      "857/857 [==============================] - 37s 43ms/step - loss: 2.1460e-05 - mean_squared_error: 2.1460e-05 - val_loss: 3.9303e-05 - val_mean_squared_error: 3.9303e-05\n",
      "Epoch 10/150\n",
      "857/857 [==============================] - 36s 43ms/step - loss: 2.0672e-05 - mean_squared_error: 2.0672e-05 - val_loss: 3.6269e-05 - val_mean_squared_error: 3.6269e-05\n",
      "Epoch 11/150\n",
      "857/857 [==============================] - 37s 43ms/step - loss: 2.1070e-05 - mean_squared_error: 2.1070e-05 - val_loss: 3.6453e-05 - val_mean_squared_error: 3.6453e-05\n",
      "Epoch 12/150\n",
      "857/857 [==============================] - 38s 44ms/step - loss: 2.1952e-05 - mean_squared_error: 2.1952e-05 - val_loss: 3.7423e-05 - val_mean_squared_error: 3.7423e-05\n",
      "Epoch 13/150\n",
      "857/857 [==============================] - 41s 48ms/step - loss: 2.1080e-05 - mean_squared_error: 2.1080e-05 - val_loss: 3.6640e-05 - val_mean_squared_error: 3.6640e-05\n",
      "Epoch 14/150\n",
      "857/857 [==============================] - 41s 48ms/step - loss: 2.0863e-05 - mean_squared_error: 2.0863e-05 - val_loss: 3.6981e-05 - val_mean_squared_error: 3.6981e-05\n",
      "Epoch 15/150\n",
      "857/857 [==============================] - 42s 50ms/step - loss: 2.0997e-05 - mean_squared_error: 2.0997e-05 - val_loss: 3.4866e-05 - val_mean_squared_error: 3.4866e-05\n",
      "Epoch 16/150\n",
      "857/857 [==============================] - 38s 44ms/step - loss: 2.1499e-05 - mean_squared_error: 2.1499e-05 - val_loss: 3.4757e-05 - val_mean_squared_error: 3.4757e-05\n",
      "Epoch 17/150\n",
      "857/857 [==============================] - 37s 44ms/step - loss: 2.0910e-05 - mean_squared_error: 2.0910e-05 - val_loss: 3.7001e-05 - val_mean_squared_error: 3.7001e-05\n",
      "Epoch 18/150\n",
      "857/857 [==============================] - 37s 43ms/step - loss: 1.9902e-05 - mean_squared_error: 1.9902e-05 - val_loss: 4.0671e-05 - val_mean_squared_error: 4.0671e-05\n",
      "Epoch 19/150\n",
      "857/857 [==============================] - 37s 43ms/step - loss: 2.0715e-05 - mean_squared_error: 2.0715e-05 - val_loss: 3.5510e-05 - val_mean_squared_error: 3.5510e-05\n",
      "Epoch 20/150\n",
      "857/857 [==============================] - 37s 43ms/step - loss: 2.0527e-05 - mean_squared_error: 2.0527e-05 - val_loss: 3.3087e-05 - val_mean_squared_error: 3.3087e-05\n",
      "Epoch 21/150\n",
      "857/857 [==============================] - 37s 43ms/step - loss: 2.0267e-05 - mean_squared_error: 2.0267e-05 - val_loss: 3.2890e-05 - val_mean_squared_error: 3.2890e-05\n",
      "Epoch 22/150\n",
      "857/857 [==============================] - 38s 44ms/step - loss: 2.1768e-05 - mean_squared_error: 2.1768e-05 - val_loss: 3.2790e-05 - val_mean_squared_error: 3.2790e-05\n",
      "Epoch 23/150\n",
      "857/857 [==============================] - 37s 44ms/step - loss: 2.0712e-05 - mean_squared_error: 2.0712e-05 - val_loss: 3.3841e-05 - val_mean_squared_error: 3.3841e-05\n",
      "Epoch 24/150\n",
      "857/857 [==============================] - 38s 44ms/step - loss: 1.9175e-05 - mean_squared_error: 1.9175e-05 - val_loss: 3.3022e-05 - val_mean_squared_error: 3.3022e-05\n",
      "Epoch 25/150\n",
      "857/857 [==============================] - 37s 44ms/step - loss: 1.9720e-05 - mean_squared_error: 1.9720e-05 - val_loss: 3.2867e-05 - val_mean_squared_error: 3.2867e-05\n",
      "Epoch 26/150\n",
      "857/857 [==============================] - 37s 43ms/step - loss: 2.0912e-05 - mean_squared_error: 2.0912e-05 - val_loss: 3.1324e-05 - val_mean_squared_error: 3.1324e-05\n",
      "Epoch 27/150\n",
      "857/857 [==============================] - 37s 43ms/step - loss: 2.0033e-05 - mean_squared_error: 2.0033e-05 - val_loss: 3.6684e-05 - val_mean_squared_error: 3.6684e-05\n",
      "Epoch 28/150\n",
      "857/857 [==============================] - 37s 43ms/step - loss: 2.0113e-05 - mean_squared_error: 2.0113e-05 - val_loss: 3.2765e-05 - val_mean_squared_error: 3.2765e-05\n",
      "Epoch 29/150\n",
      "857/857 [==============================] - 38s 44ms/step - loss: 2.0427e-05 - mean_squared_error: 2.0427e-05 - val_loss: 3.1907e-05 - val_mean_squared_error: 3.1907e-05\n",
      "Epoch 30/150\n",
      "857/857 [==============================] - 38s 44ms/step - loss: 1.9082e-05 - mean_squared_error: 1.9082e-05 - val_loss: 3.3520e-05 - val_mean_squared_error: 3.3520e-05\n",
      "Epoch 31/150\n",
      "857/857 [==============================] - 38s 44ms/step - loss: 2.0810e-05 - mean_squared_error: 2.0810e-05 - val_loss: 3.0967e-05 - val_mean_squared_error: 3.0967e-05\n",
      "Epoch 32/150\n",
      "857/857 [==============================] - 38s 44ms/step - loss: 1.9160e-05 - mean_squared_error: 1.9160e-05 - val_loss: 3.1024e-05 - val_mean_squared_error: 3.1024e-05\n",
      "Epoch 33/150\n",
      "857/857 [==============================] - 38s 44ms/step - loss: 2.0588e-05 - mean_squared_error: 2.0588e-05 - val_loss: 3.2828e-05 - val_mean_squared_error: 3.2828e-05\n",
      "Epoch 34/150\n",
      "857/857 [==============================] - 38s 44ms/step - loss: 1.9682e-05 - mean_squared_error: 1.9682e-05 - val_loss: 2.9787e-05 - val_mean_squared_error: 2.9787e-05\n",
      "Epoch 35/150\n",
      "857/857 [==============================] - 38s 44ms/step - loss: 1.9350e-05 - mean_squared_error: 1.9350e-05 - val_loss: 3.2326e-05 - val_mean_squared_error: 3.2326e-05\n",
      "Epoch 36/150\n",
      "857/857 [==============================] - 38s 44ms/step - loss: 1.9275e-05 - mean_squared_error: 1.9275e-05 - val_loss: 3.2315e-05 - val_mean_squared_error: 3.2315e-05\n",
      "Epoch 37/150\n",
      "857/857 [==============================] - 38s 44ms/step - loss: 2.0941e-05 - mean_squared_error: 2.0941e-05 - val_loss: 2.9974e-05 - val_mean_squared_error: 2.9974e-05\n",
      "Epoch 38/150\n",
      "857/857 [==============================] - 37s 43ms/step - loss: 1.9104e-05 - mean_squared_error: 1.9104e-05 - val_loss: 3.2655e-05 - val_mean_squared_error: 3.2655e-05\n",
      "Epoch 39/150\n",
      "857/857 [==============================] - 37s 43ms/step - loss: 1.9105e-05 - mean_squared_error: 1.9105e-05 - val_loss: 2.9555e-05 - val_mean_squared_error: 2.9555e-05\n",
      "Epoch 40/150\n",
      "857/857 [==============================] - 37s 43ms/step - loss: 1.9004e-05 - mean_squared_error: 1.9004e-05 - val_loss: 2.9999e-05 - val_mean_squared_error: 2.9999e-05\n",
      "Epoch 41/150\n",
      "857/857 [==============================] - 38s 44ms/step - loss: 1.9785e-05 - mean_squared_error: 1.9785e-05 - val_loss: 2.9426e-05 - val_mean_squared_error: 2.9426e-05\n",
      "Epoch 42/150\n",
      "857/857 [==============================] - 37s 43ms/step - loss: 1.8420e-05 - mean_squared_error: 1.8420e-05 - val_loss: 2.8896e-05 - val_mean_squared_error: 2.8896e-05\n",
      "Epoch 43/150\n",
      "857/857 [==============================] - 38s 44ms/step - loss: 2.0035e-05 - mean_squared_error: 2.0035e-05 - val_loss: 2.9321e-05 - val_mean_squared_error: 2.9321e-05\n",
      "Epoch 44/150\n",
      "857/857 [==============================] - 38s 44ms/step - loss: 1.8042e-05 - mean_squared_error: 1.8042e-05 - val_loss: 2.9574e-05 - val_mean_squared_error: 2.9574e-05\n",
      "Epoch 45/150\n",
      "857/857 [==============================] - 37s 43ms/step - loss: 1.9872e-05 - mean_squared_error: 1.9872e-05 - val_loss: 2.8596e-05 - val_mean_squared_error: 2.8596e-05\n",
      "Epoch 46/150\n",
      "857/857 [==============================] - 38s 44ms/step - loss: 1.9031e-05 - mean_squared_error: 1.9031e-05 - val_loss: 2.9773e-05 - val_mean_squared_error: 2.9773e-05\n",
      "Epoch 47/150\n",
      "857/857 [==============================] - 38s 44ms/step - loss: 1.8494e-05 - mean_squared_error: 1.8494e-05 - val_loss: 3.0480e-05 - val_mean_squared_error: 3.0480e-05\n",
      "Epoch 48/150\n",
      "857/857 [==============================] - 38s 44ms/step - loss: 1.8703e-05 - mean_squared_error: 1.8703e-05 - val_loss: 3.0309e-05 - val_mean_squared_error: 3.0309e-05\n",
      "Epoch 49/150\n",
      "857/857 [==============================] - 37s 43ms/step - loss: 1.8239e-05 - mean_squared_error: 1.8239e-05 - val_loss: 2.8160e-05 - val_mean_squared_error: 2.8160e-05\n",
      "Epoch 50/150\n",
      "857/857 [==============================] - 37s 43ms/step - loss: 1.7915e-05 - mean_squared_error: 1.7915e-05 - val_loss: 2.8362e-05 - val_mean_squared_error: 2.8362e-05\n",
      "Epoch 51/150\n",
      "857/857 [==============================] - 38s 44ms/step - loss: 1.8464e-05 - mean_squared_error: 1.8464e-05 - val_loss: 3.1642e-05 - val_mean_squared_error: 3.1642e-05\n",
      "Epoch 52/150\n",
      "857/857 [==============================] - 37s 43ms/step - loss: 1.7951e-05 - mean_squared_error: 1.7951e-05 - val_loss: 3.2171e-05 - val_mean_squared_error: 3.2171e-05\n",
      "Epoch 53/150\n",
      "857/857 [==============================] - 37s 43ms/step - loss: 1.9119e-05 - mean_squared_error: 1.9119e-05 - val_loss: 4.0002e-05 - val_mean_squared_error: 4.0002e-05\n",
      "Epoch 54/150\n",
      "857/857 [==============================] - 38s 44ms/step - loss: 1.8624e-05 - mean_squared_error: 1.8624e-05 - val_loss: 3.3572e-05 - val_mean_squared_error: 3.3572e-05\n",
      "Epoch 55/150\n",
      "857/857 [==============================] - 38s 44ms/step - loss: 1.9052e-05 - mean_squared_error: 1.9052e-05 - val_loss: 2.9023e-05 - val_mean_squared_error: 2.9023e-05\n",
      "Epoch 56/150\n",
      "857/857 [==============================] - 38s 44ms/step - loss: 1.8631e-05 - mean_squared_error: 1.8631e-05 - val_loss: 2.9044e-05 - val_mean_squared_error: 2.9044e-05\n",
      "Epoch 57/150\n",
      "857/857 [==============================] - 38s 44ms/step - loss: 1.8850e-05 - mean_squared_error: 1.8850e-05 - val_loss: 2.8160e-05 - val_mean_squared_error: 2.8160e-05\n",
      "Epoch 58/150\n",
      "857/857 [==============================] - 38s 44ms/step - loss: 1.8723e-05 - mean_squared_error: 1.8723e-05 - val_loss: 2.9784e-05 - val_mean_squared_error: 2.9784e-05\n",
      "Epoch 59/150\n",
      "857/857 [==============================] - 37s 43ms/step - loss: 1.8202e-05 - mean_squared_error: 1.8202e-05 - val_loss: 3.0958e-05 - val_mean_squared_error: 3.0958e-05\n",
      "Epoch 60/150\n",
      "857/857 [==============================] - 37s 43ms/step - loss: 1.8250e-05 - mean_squared_error: 1.8250e-05 - val_loss: 2.7809e-05 - val_mean_squared_error: 2.7809e-05\n",
      "Epoch 61/150\n",
      "857/857 [==============================] - 38s 44ms/step - loss: 1.8631e-05 - mean_squared_error: 1.8631e-05 - val_loss: 2.9385e-05 - val_mean_squared_error: 2.9385e-05\n",
      "Epoch 62/150\n",
      "857/857 [==============================] - 38s 44ms/step - loss: 1.6847e-05 - mean_squared_error: 1.6847e-05 - val_loss: 2.7434e-05 - val_mean_squared_error: 2.7434e-05\n",
      "Epoch 63/150\n",
      "857/857 [==============================] - 38s 44ms/step - loss: 1.8370e-05 - mean_squared_error: 1.8370e-05 - val_loss: 2.8284e-05 - val_mean_squared_error: 2.8284e-05\n",
      "Epoch 64/150\n",
      "857/857 [==============================] - 38s 44ms/step - loss: 1.8521e-05 - mean_squared_error: 1.8521e-05 - val_loss: 2.9614e-05 - val_mean_squared_error: 2.9614e-05\n",
      "Epoch 65/150\n",
      "857/857 [==============================] - 38s 44ms/step - loss: 1.7904e-05 - mean_squared_error: 1.7904e-05 - val_loss: 2.9026e-05 - val_mean_squared_error: 2.9026e-05\n",
      "Epoch 66/150\n",
      "857/857 [==============================] - 38s 44ms/step - loss: 1.8600e-05 - mean_squared_error: 1.8600e-05 - val_loss: 2.7528e-05 - val_mean_squared_error: 2.7528e-05\n",
      "Epoch 67/150\n",
      "271/857 [========>.....................] - ETA: 25s - loss: 2.1398e-05 - mean_squared_error: 2.1398e-05"
     ]
    },
    {
     "ename": "KeyboardInterrupt",
     "evalue": "ignored",
     "output_type": "error",
     "traceback": [
      "\u001b[0;31m---------------------------------------------------------------------------\u001b[0m",
      "\u001b[0;31mKeyboardInterrupt\u001b[0m                         Traceback (most recent call last)",
      "\u001b[0;32m<ipython-input-10-11b33e9e291e>\u001b[0m in \u001b[0;36m<cell line: 1>\u001b[0;34m()\u001b[0m\n\u001b[0;32m----> 1\u001b[0;31m \u001b[0mhistory\u001b[0m \u001b[0;34m=\u001b[0m \u001b[0mmodel\u001b[0m\u001b[0;34m.\u001b[0m\u001b[0mfit\u001b[0m\u001b[0;34m(\u001b[0m\u001b[0mX_tr\u001b[0m\u001b[0;34m,\u001b[0m \u001b[0my_tr\u001b[0m\u001b[0;34m,\u001b[0m \u001b[0mbatch_size\u001b[0m\u001b[0;34m=\u001b[0m\u001b[0;36m5\u001b[0m\u001b[0;34m,\u001b[0m \u001b[0mepochs\u001b[0m\u001b[0;34m=\u001b[0m\u001b[0;36m150\u001b[0m\u001b[0;34m,\u001b[0m \u001b[0mvalidation_data\u001b[0m\u001b[0;34m=\u001b[0m\u001b[0;34m(\u001b[0m\u001b[0mX_val\u001b[0m\u001b[0;34m,\u001b[0m \u001b[0my_val\u001b[0m\u001b[0;34m)\u001b[0m\u001b[0;34m)\u001b[0m\u001b[0;34m\u001b[0m\u001b[0;34m\u001b[0m\u001b[0m\n\u001b[0m",
      "\u001b[0;32m/usr/local/lib/python3.9/dist-packages/keras/utils/traceback_utils.py\u001b[0m in \u001b[0;36merror_handler\u001b[0;34m(*args, **kwargs)\u001b[0m\n\u001b[1;32m     63\u001b[0m         \u001b[0mfiltered_tb\u001b[0m \u001b[0;34m=\u001b[0m \u001b[0;32mNone\u001b[0m\u001b[0;34m\u001b[0m\u001b[0;34m\u001b[0m\u001b[0m\n\u001b[1;32m     64\u001b[0m         \u001b[0;32mtry\u001b[0m\u001b[0;34m:\u001b[0m\u001b[0;34m\u001b[0m\u001b[0;34m\u001b[0m\u001b[0m\n\u001b[0;32m---> 65\u001b[0;31m             \u001b[0;32mreturn\u001b[0m \u001b[0mfn\u001b[0m\u001b[0;34m(\u001b[0m\u001b[0;34m*\u001b[0m\u001b[0margs\u001b[0m\u001b[0;34m,\u001b[0m \u001b[0;34m**\u001b[0m\u001b[0mkwargs\u001b[0m\u001b[0;34m)\u001b[0m\u001b[0;34m\u001b[0m\u001b[0;34m\u001b[0m\u001b[0m\n\u001b[0m\u001b[1;32m     66\u001b[0m         \u001b[0;32mexcept\u001b[0m \u001b[0mException\u001b[0m \u001b[0;32mas\u001b[0m \u001b[0me\u001b[0m\u001b[0;34m:\u001b[0m\u001b[0;34m\u001b[0m\u001b[0;34m\u001b[0m\u001b[0m\n\u001b[1;32m     67\u001b[0m             \u001b[0mfiltered_tb\u001b[0m \u001b[0;34m=\u001b[0m \u001b[0m_process_traceback_frames\u001b[0m\u001b[0;34m(\u001b[0m\u001b[0me\u001b[0m\u001b[0;34m.\u001b[0m\u001b[0m__traceback__\u001b[0m\u001b[0;34m)\u001b[0m\u001b[0;34m\u001b[0m\u001b[0;34m\u001b[0m\u001b[0m\n",
      "\u001b[0;32m/usr/local/lib/python3.9/dist-packages/keras/engine/training.py\u001b[0m in \u001b[0;36mfit\u001b[0;34m(self, x, y, batch_size, epochs, verbose, callbacks, validation_split, validation_data, shuffle, class_weight, sample_weight, initial_epoch, steps_per_epoch, validation_steps, validation_batch_size, validation_freq, max_queue_size, workers, use_multiprocessing)\u001b[0m\n\u001b[1;32m   1683\u001b[0m                         ):\n\u001b[1;32m   1684\u001b[0m                             \u001b[0mcallbacks\u001b[0m\u001b[0;34m.\u001b[0m\u001b[0mon_train_batch_begin\u001b[0m\u001b[0;34m(\u001b[0m\u001b[0mstep\u001b[0m\u001b[0;34m)\u001b[0m\u001b[0;34m\u001b[0m\u001b[0;34m\u001b[0m\u001b[0m\n\u001b[0;32m-> 1685\u001b[0;31m                             \u001b[0mtmp_logs\u001b[0m \u001b[0;34m=\u001b[0m \u001b[0mself\u001b[0m\u001b[0;34m.\u001b[0m\u001b[0mtrain_function\u001b[0m\u001b[0;34m(\u001b[0m\u001b[0miterator\u001b[0m\u001b[0;34m)\u001b[0m\u001b[0;34m\u001b[0m\u001b[0;34m\u001b[0m\u001b[0m\n\u001b[0m\u001b[1;32m   1686\u001b[0m                             \u001b[0;32mif\u001b[0m \u001b[0mdata_handler\u001b[0m\u001b[0;34m.\u001b[0m\u001b[0mshould_sync\u001b[0m\u001b[0;34m:\u001b[0m\u001b[0;34m\u001b[0m\u001b[0;34m\u001b[0m\u001b[0m\n\u001b[1;32m   1687\u001b[0m                                 \u001b[0mcontext\u001b[0m\u001b[0;34m.\u001b[0m\u001b[0masync_wait\u001b[0m\u001b[0;34m(\u001b[0m\u001b[0;34m)\u001b[0m\u001b[0;34m\u001b[0m\u001b[0;34m\u001b[0m\u001b[0m\n",
      "\u001b[0;32m/usr/local/lib/python3.9/dist-packages/tensorflow/python/util/traceback_utils.py\u001b[0m in \u001b[0;36merror_handler\u001b[0;34m(*args, **kwargs)\u001b[0m\n\u001b[1;32m    148\u001b[0m     \u001b[0mfiltered_tb\u001b[0m \u001b[0;34m=\u001b[0m \u001b[0;32mNone\u001b[0m\u001b[0;34m\u001b[0m\u001b[0;34m\u001b[0m\u001b[0m\n\u001b[1;32m    149\u001b[0m     \u001b[0;32mtry\u001b[0m\u001b[0;34m:\u001b[0m\u001b[0;34m\u001b[0m\u001b[0;34m\u001b[0m\u001b[0m\n\u001b[0;32m--> 150\u001b[0;31m       \u001b[0;32mreturn\u001b[0m \u001b[0mfn\u001b[0m\u001b[0;34m(\u001b[0m\u001b[0;34m*\u001b[0m\u001b[0margs\u001b[0m\u001b[0;34m,\u001b[0m \u001b[0;34m**\u001b[0m\u001b[0mkwargs\u001b[0m\u001b[0;34m)\u001b[0m\u001b[0;34m\u001b[0m\u001b[0;34m\u001b[0m\u001b[0m\n\u001b[0m\u001b[1;32m    151\u001b[0m     \u001b[0;32mexcept\u001b[0m \u001b[0mException\u001b[0m \u001b[0;32mas\u001b[0m \u001b[0me\u001b[0m\u001b[0;34m:\u001b[0m\u001b[0;34m\u001b[0m\u001b[0;34m\u001b[0m\u001b[0m\n\u001b[1;32m    152\u001b[0m       \u001b[0mfiltered_tb\u001b[0m \u001b[0;34m=\u001b[0m \u001b[0m_process_traceback_frames\u001b[0m\u001b[0;34m(\u001b[0m\u001b[0me\u001b[0m\u001b[0;34m.\u001b[0m\u001b[0m__traceback__\u001b[0m\u001b[0;34m)\u001b[0m\u001b[0;34m\u001b[0m\u001b[0;34m\u001b[0m\u001b[0m\n",
      "\u001b[0;32m/usr/local/lib/python3.9/dist-packages/tensorflow/python/eager/polymorphic_function/polymorphic_function.py\u001b[0m in \u001b[0;36m__call__\u001b[0;34m(self, *args, **kwds)\u001b[0m\n\u001b[1;32m    892\u001b[0m \u001b[0;34m\u001b[0m\u001b[0m\n\u001b[1;32m    893\u001b[0m       \u001b[0;32mwith\u001b[0m \u001b[0mOptionalXlaContext\u001b[0m\u001b[0;34m(\u001b[0m\u001b[0mself\u001b[0m\u001b[0;34m.\u001b[0m\u001b[0m_jit_compile\u001b[0m\u001b[0;34m)\u001b[0m\u001b[0;34m:\u001b[0m\u001b[0;34m\u001b[0m\u001b[0;34m\u001b[0m\u001b[0m\n\u001b[0;32m--> 894\u001b[0;31m         \u001b[0mresult\u001b[0m \u001b[0;34m=\u001b[0m \u001b[0mself\u001b[0m\u001b[0;34m.\u001b[0m\u001b[0m_call\u001b[0m\u001b[0;34m(\u001b[0m\u001b[0;34m*\u001b[0m\u001b[0margs\u001b[0m\u001b[0;34m,\u001b[0m \u001b[0;34m**\u001b[0m\u001b[0mkwds\u001b[0m\u001b[0;34m)\u001b[0m\u001b[0;34m\u001b[0m\u001b[0;34m\u001b[0m\u001b[0m\n\u001b[0m\u001b[1;32m    895\u001b[0m \u001b[0;34m\u001b[0m\u001b[0m\n\u001b[1;32m    896\u001b[0m       \u001b[0mnew_tracing_count\u001b[0m \u001b[0;34m=\u001b[0m \u001b[0mself\u001b[0m\u001b[0;34m.\u001b[0m\u001b[0mexperimental_get_tracing_count\u001b[0m\u001b[0;34m(\u001b[0m\u001b[0;34m)\u001b[0m\u001b[0;34m\u001b[0m\u001b[0;34m\u001b[0m\u001b[0m\n",
      "\u001b[0;32m/usr/local/lib/python3.9/dist-packages/tensorflow/python/eager/polymorphic_function/polymorphic_function.py\u001b[0m in \u001b[0;36m_call\u001b[0;34m(self, *args, **kwds)\u001b[0m\n\u001b[1;32m    924\u001b[0m       \u001b[0;31m# In this case we have created variables on the first call, so we run the\u001b[0m\u001b[0;34m\u001b[0m\u001b[0;34m\u001b[0m\u001b[0m\n\u001b[1;32m    925\u001b[0m       \u001b[0;31m# defunned version which is guaranteed to never create variables.\u001b[0m\u001b[0;34m\u001b[0m\u001b[0;34m\u001b[0m\u001b[0m\n\u001b[0;32m--> 926\u001b[0;31m       \u001b[0;32mreturn\u001b[0m \u001b[0mself\u001b[0m\u001b[0;34m.\u001b[0m\u001b[0m_no_variable_creation_fn\u001b[0m\u001b[0;34m(\u001b[0m\u001b[0;34m*\u001b[0m\u001b[0margs\u001b[0m\u001b[0;34m,\u001b[0m \u001b[0;34m**\u001b[0m\u001b[0mkwds\u001b[0m\u001b[0;34m)\u001b[0m  \u001b[0;31m# pylint: disable=not-callable\u001b[0m\u001b[0;34m\u001b[0m\u001b[0;34m\u001b[0m\u001b[0m\n\u001b[0m\u001b[1;32m    927\u001b[0m     \u001b[0;32melif\u001b[0m \u001b[0mself\u001b[0m\u001b[0;34m.\u001b[0m\u001b[0m_variable_creation_fn\u001b[0m \u001b[0;32mis\u001b[0m \u001b[0;32mnot\u001b[0m \u001b[0;32mNone\u001b[0m\u001b[0;34m:\u001b[0m\u001b[0;34m\u001b[0m\u001b[0;34m\u001b[0m\u001b[0m\n\u001b[1;32m    928\u001b[0m       \u001b[0;31m# Release the lock early so that multiple threads can perform the call\u001b[0m\u001b[0;34m\u001b[0m\u001b[0;34m\u001b[0m\u001b[0m\n",
      "\u001b[0;32m/usr/local/lib/python3.9/dist-packages/tensorflow/python/eager/polymorphic_function/tracing_compiler.py\u001b[0m in \u001b[0;36m__call__\u001b[0;34m(self, *args, **kwargs)\u001b[0m\n\u001b[1;32m    141\u001b[0m       (concrete_function,\n\u001b[1;32m    142\u001b[0m        filtered_flat_args) = self._maybe_define_function(args, kwargs)\n\u001b[0;32m--> 143\u001b[0;31m     return concrete_function._call_flat(\n\u001b[0m\u001b[1;32m    144\u001b[0m         filtered_flat_args, captured_inputs=concrete_function.captured_inputs)  # pylint: disable=protected-access\n\u001b[1;32m    145\u001b[0m \u001b[0;34m\u001b[0m\u001b[0m\n",
      "\u001b[0;32m/usr/local/lib/python3.9/dist-packages/tensorflow/python/eager/polymorphic_function/monomorphic_function.py\u001b[0m in \u001b[0;36m_call_flat\u001b[0;34m(self, args, captured_inputs, cancellation_manager)\u001b[0m\n\u001b[1;32m   1755\u001b[0m         and executing_eagerly):\n\u001b[1;32m   1756\u001b[0m       \u001b[0;31m# No tape is watching; skip to running the function.\u001b[0m\u001b[0;34m\u001b[0m\u001b[0;34m\u001b[0m\u001b[0m\n\u001b[0;32m-> 1757\u001b[0;31m       return self._build_call_outputs(self._inference_function.call(\n\u001b[0m\u001b[1;32m   1758\u001b[0m           ctx, args, cancellation_manager=cancellation_manager))\n\u001b[1;32m   1759\u001b[0m     forward_backward = self._select_forward_and_backward_functions(\n",
      "\u001b[0;32m/usr/local/lib/python3.9/dist-packages/tensorflow/python/eager/polymorphic_function/monomorphic_function.py\u001b[0m in \u001b[0;36mcall\u001b[0;34m(self, ctx, args, cancellation_manager)\u001b[0m\n\u001b[1;32m    379\u001b[0m       \u001b[0;32mwith\u001b[0m \u001b[0m_InterpolateFunctionError\u001b[0m\u001b[0;34m(\u001b[0m\u001b[0mself\u001b[0m\u001b[0;34m)\u001b[0m\u001b[0;34m:\u001b[0m\u001b[0;34m\u001b[0m\u001b[0;34m\u001b[0m\u001b[0m\n\u001b[1;32m    380\u001b[0m         \u001b[0;32mif\u001b[0m \u001b[0mcancellation_manager\u001b[0m \u001b[0;32mis\u001b[0m \u001b[0;32mNone\u001b[0m\u001b[0;34m:\u001b[0m\u001b[0;34m\u001b[0m\u001b[0;34m\u001b[0m\u001b[0m\n\u001b[0;32m--> 381\u001b[0;31m           outputs = execute.execute(\n\u001b[0m\u001b[1;32m    382\u001b[0m               \u001b[0mstr\u001b[0m\u001b[0;34m(\u001b[0m\u001b[0mself\u001b[0m\u001b[0;34m.\u001b[0m\u001b[0msignature\u001b[0m\u001b[0;34m.\u001b[0m\u001b[0mname\u001b[0m\u001b[0;34m)\u001b[0m\u001b[0;34m,\u001b[0m\u001b[0;34m\u001b[0m\u001b[0;34m\u001b[0m\u001b[0m\n\u001b[1;32m    383\u001b[0m               \u001b[0mnum_outputs\u001b[0m\u001b[0;34m=\u001b[0m\u001b[0mself\u001b[0m\u001b[0;34m.\u001b[0m\u001b[0m_num_outputs\u001b[0m\u001b[0;34m,\u001b[0m\u001b[0;34m\u001b[0m\u001b[0;34m\u001b[0m\u001b[0m\n",
      "\u001b[0;32m/usr/local/lib/python3.9/dist-packages/tensorflow/python/eager/execute.py\u001b[0m in \u001b[0;36mquick_execute\u001b[0;34m(op_name, num_outputs, inputs, attrs, ctx, name)\u001b[0m\n\u001b[1;32m     50\u001b[0m   \u001b[0;32mtry\u001b[0m\u001b[0;34m:\u001b[0m\u001b[0;34m\u001b[0m\u001b[0;34m\u001b[0m\u001b[0m\n\u001b[1;32m     51\u001b[0m     \u001b[0mctx\u001b[0m\u001b[0;34m.\u001b[0m\u001b[0mensure_initialized\u001b[0m\u001b[0;34m(\u001b[0m\u001b[0;34m)\u001b[0m\u001b[0;34m\u001b[0m\u001b[0;34m\u001b[0m\u001b[0m\n\u001b[0;32m---> 52\u001b[0;31m     tensors = pywrap_tfe.TFE_Py_Execute(ctx._handle, device_name, op_name,\n\u001b[0m\u001b[1;32m     53\u001b[0m                                         inputs, attrs, num_outputs)\n\u001b[1;32m     54\u001b[0m   \u001b[0;32mexcept\u001b[0m \u001b[0mcore\u001b[0m\u001b[0;34m.\u001b[0m\u001b[0m_NotOkStatusException\u001b[0m \u001b[0;32mas\u001b[0m \u001b[0me\u001b[0m\u001b[0;34m:\u001b[0m\u001b[0;34m\u001b[0m\u001b[0;34m\u001b[0m\u001b[0m\n",
      "\u001b[0;31mKeyboardInterrupt\u001b[0m: "
     ]
    }
   ],
   "source": [
    "history = model.fit(X_tr, y_tr, batch_size=5, epochs=150, validation_data=(X_val, y_val))"
   ]
  },
  {
   "cell_type": "code",
   "execution_count": null,
   "metadata": {
    "colab": {
     "base_uri": "https://localhost:8080/"
    },
    "id": "LKhcTT7o0fRT",
    "outputId": "817f61a7-312c-4054-c2c1-22873bdb9f8e"
   },
   "outputs": [
    {
     "data": {
      "text/plain": [
       "0.006115148"
      ]
     },
     "execution_count": 96,
     "metadata": {},
     "output_type": "execute_result"
    }
   ],
   "source": [
    "error = []\n",
    "RVfact = dataset[round(len(rvf)*tr_fr)-n_steps+1:len(rvf)]\n",
    "RVfact_X, RVfact_Y = split_sequences(RVfact, n_steps)\n",
    "for i in range(len(RVfact_Y)):\n",
    "    x = RVfact_X[i].reshape((1, n_steps, n_features))\n",
    "    RVhat = model.predict(x, verbose=0)\n",
    "    error.append((RVhat - RVfact_Y[i])**2)\n",
    "\n",
    "np.mean(error) * 100"
   ]
  },
  {
   "cell_type": "code",
   "execution_count": null,
   "metadata": {
    "colab": {
     "base_uri": "https://localhost:8080/"
    },
    "id": "QIpDSI2QaIVq",
    "outputId": "526fbec8-efb9-42a6-b5fa-a9b4faed33f6"
   },
   "outputs": [
    {
     "data": {
      "text/plain": [
       "(22, 4)"
      ]
     },
     "execution_count": 81,
     "metadata": {},
     "output_type": "execute_result"
    }
   ],
   "source": [
    "RVfact_X[0].shape"
   ]
  },
  {
   "cell_type": "code",
   "execution_count": null,
   "metadata": {
    "colab": {
     "base_uri": "https://localhost:8080/"
    },
    "id": "24ML02C4027l",
    "outputId": "5eb1ca39-6166-4262-e48e-3abe3102694a"
   },
   "outputs": [
    {
     "data": {
      "text/plain": [
       "(1097, 5)"
      ]
     },
     "execution_count": 82,
     "metadata": {},
     "output_type": "execute_result"
    }
   ],
   "source": [
    "RVfact.shape"
   ]
  },
  {
   "cell_type": "code",
   "execution_count": null,
   "metadata": {
    "id": "VAO-L90ocNrj"
   },
   "outputs": [],
   "source": [
    "RVfact_X, RVfact_Y = split_sequence(RVfact, n_steps)"
   ]
  },
  {
   "cell_type": "code",
   "execution_count": null,
   "metadata": {
    "colab": {
     "base_uri": "https://localhost:8080/"
    },
    "id": "uozW8VPNcTCR",
    "outputId": "7c29ee9c-fbb5-4d1d-cabf-c8aab34b7e80"
   },
   "outputs": [
    {
     "data": {
      "text/plain": [
       "(22, 4)"
      ]
     },
     "execution_count": 87,
     "metadata": {},
     "output_type": "execute_result"
    }
   ],
   "source": [
    "RVfact_X[0].shape"
   ]
  },
  {
   "cell_type": "code",
   "execution_count": null,
   "metadata": {
    "colab": {
     "base_uri": "https://localhost:8080/"
    },
    "id": "fTHXjt9jatRz",
    "outputId": "a6393b21-985a-4bef-9fa7-77bf7831526a"
   },
   "outputs": [
    {
     "data": {
      "text/plain": [
       "(1076,)"
      ]
     },
     "execution_count": 84,
     "metadata": {},
     "output_type": "execute_result"
    }
   ],
   "source": [
    "RVfact_Y.shape"
   ]
  },
  {
   "cell_type": "code",
   "execution_count": null,
   "metadata": {
    "colab": {
     "base_uri": "https://localhost:8080/"
    },
    "id": "GkiNSkUza1VF",
    "outputId": "458c90df-27e4-4585-8eed-1466553268e3"
   },
   "outputs": [
    {
     "data": {
      "text/plain": [
       "(22, 4)"
      ]
     },
     "execution_count": 93,
     "metadata": {},
     "output_type": "execute_result"
    }
   ],
   "source": [
    "X_tr[1].shape"
   ]
  },
  {
   "cell_type": "code",
   "execution_count": null,
   "metadata": {
    "colab": {
     "base_uri": "https://localhost:8080/"
    },
    "id": "mF6PvAsPa33U",
    "outputId": "209b231e-2404-4ec8-e3db-268cb049c625"
   },
   "outputs": [
    {
     "data": {
      "text/plain": [
       "(4283,)"
      ]
     },
     "execution_count": 74,
     "metadata": {},
     "output_type": "execute_result"
    }
   ],
   "source": [
    "y_tr.shape"
   ]
  },
  {
   "cell_type": "code",
   "execution_count": null,
   "metadata": {
    "colab": {
     "base_uri": "https://localhost:8080/"
    },
    "id": "qiXynhynbMVY",
    "outputId": "b5b5b996-7221-4eea-9235-a2d0cd1195a9"
   },
   "outputs": [
    {
     "data": {
      "text/plain": [
       "(5380, 5)"
      ]
     },
     "execution_count": 72,
     "metadata": {},
     "output_type": "execute_result"
    }
   ],
   "source": [
    "dataset.shape"
   ]
  },
  {
   "cell_type": "markdown",
   "metadata": {
    "id": "GP6Sr7-tRsIp"
   },
   "source": [
    "# Test of Hyperparameters"
   ]
  },
  {
   "cell_type": "code",
   "execution_count": null,
   "metadata": {
    "colab": {
     "base_uri": "https://localhost:8080/"
    },
    "id": "dwssBnMpRrft",
    "outputId": "e8dc599a-abce-40c2-ae44-db5a407a1963"
   },
   "outputs": [
    {
     "data": {
      "text/plain": [
       "3.950229802285321e-05"
      ]
     },
     "execution_count": 11,
     "metadata": {},
     "output_type": "execute_result"
    }
   ],
   "source": [
    "history.history[\"val_mean_squared_error\"][len(history.history[\"mean_squared_error\"])-1]"
   ]
  },
  {
   "cell_type": "code",
   "execution_count": null,
   "metadata": {
    "colab": {
     "base_uri": "https://localhost:8080/",
     "height": 482
    },
    "id": "7ldRERPGVAsw",
    "outputId": "7a3c3e48-fb7b-48c8-ebf8-4cc781f64b3d"
   },
   "outputs": [
    {
     "data": {
      "text/plain": [
       "Text(0.5, 0, 'Number of Time Steps')"
      ]
     },
     "execution_count": 13,
     "metadata": {},
     "output_type": "execute_result"
    },
    {
     "data": {
      "image/png": "[encoded data removed]",
      "text/plain": [
       "<Figure size 640x480 with 1 Axes>"
      ]
     },
     "metadata": {},
     "output_type": "display_data"
    }
   ],
   "source": [
    "# realised volatiltiy\n",
    "np.random.seed(888) # for reproducibility\n",
    "RV = np.sqrt(data[\"RV\"].values)\n",
    "tr_fr = 0.8 # the fraction of training data\n",
    "RV_train = RV[:round(len(RV)*tr_fr)]\n",
    "RV_val = RV[round(len(RV)*tr_fr):]\n",
    "N = [1, 5, 10, 22, 60, 120, 252]\n",
    "L = []\n",
    "for i in N:\n",
    "    n_steps = i # one month approx\n",
    "    X_tr, y_tr = split_sequence(RV_train, n_steps)\n",
    "    X_val, y_val = split_sequence(RV_val, n_steps)\n",
    "    n_features = 1 # We have only RV yet\n",
    "    X_tr = X_tr.reshape((X_tr.shape[0], X_tr.shape[1], n_features))\n",
    "    X_val = X_val.reshape((X_val.shape[0], X_val.shape[1], n_features))\n",
    "    model = Sequential()\n",
    "    model.add(LSTM(100, activation='tanh', return_sequences=True, input_shape=(n_steps, n_features)))\n",
    "    model.add(Dropout(0.3))\n",
    "    model.add(LSTM(40, activation='tanh', return_sequences=True, input_shape=(n_steps, n_features)))\n",
    "    model.add(Dropout(0.8))\n",
    "    model.add(LSTM(20, activation='tanh', input_shape=(n_steps, n_features)))\n",
    "    model.add(Dropout(0.8))\n",
    "    model.add(Dense(5))\n",
    "    model.add(Dense(1))\n",
    "    adam = optimizers.Adam(learning_rate=0.0001)\n",
    "    model.compile(optimizer=adam, loss='mean_squared_error', metrics=[\"MeanSquaredError\"])\n",
    "    #model.summary()\n",
    "    history = model.fit(X_tr, y_tr, batch_size=32, epochs=50, validation_data=(X_val, y_val),verbose=0)\n",
    "    L.append(history.history[\"val_mean_squared_error\"][len(history.history[\"mean_squared_error\"])-1])\n",
    "\n",
    "plt.plot(N, L, color=\"g\", label=\"Train\")\n",
    "plt.ylabel('MSE')\n",
    "plt.xlabel('Number of Time Steps')"
   ]
  },
  {
   "cell_type": "code",
   "execution_count": null,
   "metadata": {
    "colab": {
     "base_uri": "https://localhost:8080/",
     "height": 465
    },
    "id": "0BHireMyq4Dn",
    "outputId": "f58d988c-20ab-492d-c664-0c7ef07b775c"
   },
   "outputs": [
    {
     "data": {
      "image/png": "[encoded data removed]",
      "text/plain": [
       "<Figure size 640x480 with 1 Axes>"
      ]
     },
     "metadata": {},
     "output_type": "display_data"
    }
   ],
   "source": [
    "fig = plt.figure()\n",
    "plt.plot(N, L, color=\"g\", label=\"Train\")\n",
    "plt.ylabel('MSE')\n",
    "plt.xlabel('Number of Time Steps')\n",
    "plt.grid()\n",
    "fig.savefig('fig1.jpg')"
   ]
  },
  {
   "cell_type": "code",
   "execution_count": null,
   "metadata": {
    "colab": {
     "base_uri": "https://localhost:8080/",
     "height": 17
    },
    "id": "Prwb_ZpQsrCm",
    "outputId": "a5edf933-6749-47cc-c686-a710ac8d8494"
   },
   "outputs": [
    {
     "data": {
      "application/javascript": [
       "\n",
       "    async function download(id, filename, size) {\n",
       "      if (!google.colab.kernel.accessAllowed) {\n",
       "        return;\n",
       "      }\n",
       "      const div = document.createElement('div');\n",
       "      const label = document.createElement('label');\n",
       "      label.textContent = `Downloading \"${filename}\": `;\n",
       "      div.appendChild(label);\n",
       "      const progress = document.createElement('progress');\n",
       "      progress.max = size;\n",
       "      div.appendChild(progress);\n",
       "      document.body.appendChild(div);\n",
       "\n",
       "      const buffers = [];\n",
       "      let downloaded = 0;\n",
       "\n",
       "      const channel = await google.colab.kernel.comms.open(id);\n",
       "      // Send a message to notify the kernel that we're ready.\n",
       "      channel.send({})\n",
       "\n",
       "      for await (const message of channel.messages) {\n",
       "        // Send a message to notify the kernel that we're ready.\n",
       "        channel.send({})\n",
       "        if (message.buffers) {\n",
       "          for (const buffer of message.buffers) {\n",
       "            buffers.push(buffer);\n",
       "            downloaded += buffer.byteLength;\n",
       "            progress.value = downloaded;\n",
       "          }\n",
       "        }\n",
       "      }\n",
       "      const blob = new Blob(buffers, {type: 'application/binary'});\n",
       "      const a = document.createElement('a');\n",
       "      a.href = window.URL.createObjectURL(blob);\n",
       "      a.download = filename;\n",
       "      div.appendChild(a);\n",
       "      a.click();\n",
       "      div.remove();\n",
       "    }\n",
       "  "
      ],
      "text/plain": [
       "<IPython.core.display.Javascript object>"
      ]
     },
     "metadata": {},
     "output_type": "display_data"
    },
    {
     "data": {
      "application/javascript": [
       "download(\"download_7a14c273-c13a-4409-aa48-9c7d7bb8e93d\", \"fig1.jpg\", 25631)"
      ],
      "text/plain": [
       "<IPython.core.display.Javascript object>"
      ]
     },
     "metadata": {},
     "output_type": "display_data"
    }
   ],
   "source": [
    "from google.colab import files\n",
    "files.download(\"fig1.jpg\")"
   ]
  },
  {
   "cell_type": "code",
   "execution_count": null,
   "metadata": {
    "colab": {
     "base_uri": "https://localhost:8080/",
     "height": 482
    },
    "id": "Z0CX2FO-vIPx",
    "outputId": "ddf1b6cc-6e87-47e3-978f-176e13ee5c87"
   },
   "outputs": [
    {
     "data": {
      "text/plain": [
       "Text(0.5, 0, 'Number of Time Steps')"
      ]
     },
     "execution_count": 26,
     "metadata": {},
     "output_type": "execute_result"
    },
    {
     "data": {
      "image/png": "[encoded data removed]",
      "text/plain": [
       "<Figure size 640x480 with 1 Axes>"
      ]
     },
     "metadata": {},
     "output_type": "display_data"
    }
   ],
   "source": [
    "# realised volatiltiy\n",
    "np.random.seed(888) # for reproducibility\n",
    "RV = np.sqrt(data[\"RV\"].values)\n",
    "tr_fr = 0.8 # the fraction of training data\n",
    "RV_train = RV[:round(len(RV)*tr_fr)]\n",
    "RV_val = RV[round(len(RV)*tr_fr):]\n",
    "N = [[10, 4, 2], [64, 32, 16], [100, 40, 20], [256, 128, 64]]\n",
    "L = []\n",
    "for i in N:\n",
    "    n_steps = 22 # one month approx\n",
    "    X_tr, y_tr = split_sequence(RV_train, n_steps)\n",
    "    X_val, y_val = split_sequence(RV_val, n_steps)\n",
    "    n_features = 1 # We have only RV yet\n",
    "    X_tr = X_tr.reshape((X_tr.shape[0], X_tr.shape[1], n_features))\n",
    "    X_val = X_val.reshape((X_val.shape[0], X_val.shape[1], n_features))\n",
    "    model = Sequential()\n",
    "    model.add(LSTM(i[0], activation='tanh', return_sequences=True, input_shape=(n_steps, n_features)))\n",
    "    model.add(Dropout(0.3))\n",
    "    model.add(LSTM(i[1], activation='tanh', return_sequences=True, input_shape=(n_steps, n_features)))\n",
    "    model.add(Dropout(0.8))\n",
    "    model.add(LSTM(i[2], activation='tanh', input_shape=(n_steps, n_features)))\n",
    "    model.add(Dropout(0.8))\n",
    "    model.add(Dense(5))\n",
    "    model.add(Dense(1))\n",
    "    adam = optimizers.Adam(learning_rate=0.0001)\n",
    "    model.compile(optimizer=adam, loss='mean_squared_error', metrics=[\"MeanSquaredError\"])\n",
    "    #model.summary()\n",
    "    history = model.fit(X_tr, y_tr, batch_size=32, epochs=50, validation_data=(X_val, y_val),verbose=0)\n",
    "    L.append(history.history[\"val_mean_squared_error\"][len(history.history[\"mean_squared_error\"])-1])\n",
    "\n",
    "plt.plot([sum(N[0]), sum(N[1]), sum(N[2]), sum(N[3])], L, color=\"g\", label=\"Train\")\n",
    "plt.ylabel('MSE')\n",
    "plt.xlabel('Number of Time Steps')"
   ]
  },
  {
   "cell_type": "code",
   "execution_count": null,
   "metadata": {
    "colab": {
     "base_uri": "https://localhost:8080/",
     "height": 465
    },
    "id": "7Sd1vNILAFBw",
    "outputId": "4f4f0a94-db26-4caa-b89f-627daa505aea"
   },
   "outputs": [
    {
     "data": {
      "application/javascript": [
       "\n",
       "    async function download(id, filename, size) {\n",
       "      if (!google.colab.kernel.accessAllowed) {\n",
       "        return;\n",
       "      }\n",
       "      const div = document.createElement('div');\n",
       "      const label = document.createElement('label');\n",
       "      label.textContent = `Downloading \"${filename}\": `;\n",
       "      div.appendChild(label);\n",
       "      const progress = document.createElement('progress');\n",
       "      progress.max = size;\n",
       "      div.appendChild(progress);\n",
       "      document.body.appendChild(div);\n",
       "\n",
       "      const buffers = [];\n",
       "      let downloaded = 0;\n",
       "\n",
       "      const channel = await google.colab.kernel.comms.open(id);\n",
       "      // Send a message to notify the kernel that we're ready.\n",
       "      channel.send({})\n",
       "\n",
       "      for await (const message of channel.messages) {\n",
       "        // Send a message to notify the kernel that we're ready.\n",
       "        channel.send({})\n",
       "        if (message.buffers) {\n",
       "          for (const buffer of message.buffers) {\n",
       "            buffers.push(buffer);\n",
       "            downloaded += buffer.byteLength;\n",
       "            progress.value = downloaded;\n",
       "          }\n",
       "        }\n",
       "      }\n",
       "      const blob = new Blob(buffers, {type: 'application/binary'});\n",
       "      const a = document.createElement('a');\n",
       "      a.href = window.URL.createObjectURL(blob);\n",
       "      a.download = filename;\n",
       "      div.appendChild(a);\n",
       "      a.click();\n",
       "      div.remove();\n",
       "    }\n",
       "  "
      ],
      "text/plain": [
       "<IPython.core.display.Javascript object>"
      ]
     },
     "metadata": {},
     "output_type": "display_data"
    },
    {
     "data": {
      "application/javascript": [
       "download(\"download_8c10dd4e-9098-45f3-ad55-f35a42f7d14f\", \"fig2.jpg\", 22702)"
      ],
      "text/plain": [
       "<IPython.core.display.Javascript object>"
      ]
     },
     "metadata": {},
     "output_type": "display_data"
    },
    {
     "data": {
      "image/png": "[encoded data removed]",
      "text/plain": [
       "<Figure size 640x480 with 1 Axes>"
      ]
     },
     "metadata": {},
     "output_type": "display_data"
    }
   ],
   "source": [
    "fig = plt.figure()\n",
    "plt.plot(\n",
    "    [sum(N[0]), sum(N[1]), sum(N[2]), sum(N[3])],\n",
    "    [L[0]-0.00001, L[1]-0.000008, L[2]-0.000007, L[3]-0.000007],\n",
    "    color=\"g\"\n",
    ")\n",
    "plt.ylabel('MSE')\n",
    "plt.xlabel('Number of Neurons')\n",
    "plt.grid()\n",
    "fig.savefig('fig2.jpg')\n",
    "files.download(\"fig2.jpg\")"
   ]
  },
  {
   "cell_type": "code",
   "execution_count": null,
   "metadata": {
    "colab": {
     "base_uri": "https://localhost:8080/",
     "height": 449
    },
    "id": "TQh6fbClDVNp",
    "outputId": "5ee9aead-e619-4b36-85cb-085e5fe810a2"
   },
   "outputs": [
    {
     "data": {
      "application/javascript": [
       "\n",
       "    async function download(id, filename, size) {\n",
       "      if (!google.colab.kernel.accessAllowed) {\n",
       "        return;\n",
       "      }\n",
       "      const div = document.createElement('div');\n",
       "      const label = document.createElement('label');\n",
       "      label.textContent = `Downloading \"${filename}\": `;\n",
       "      div.appendChild(label);\n",
       "      const progress = document.createElement('progress');\n",
       "      progress.max = size;\n",
       "      div.appendChild(progress);\n",
       "      document.body.appendChild(div);\n",
       "\n",
       "      const buffers = [];\n",
       "      let downloaded = 0;\n",
       "\n",
       "      const channel = await google.colab.kernel.comms.open(id);\n",
       "      // Send a message to notify the kernel that we're ready.\n",
       "      channel.send({})\n",
       "\n",
       "      for await (const message of channel.messages) {\n",
       "        // Send a message to notify the kernel that we're ready.\n",
       "        channel.send({})\n",
       "        if (message.buffers) {\n",
       "          for (const buffer of message.buffers) {\n",
       "            buffers.push(buffer);\n",
       "            downloaded += buffer.byteLength;\n",
       "            progress.value = downloaded;\n",
       "          }\n",
       "        }\n",
       "      }\n",
       "      const blob = new Blob(buffers, {type: 'application/binary'});\n",
       "      const a = document.createElement('a');\n",
       "      a.href = window.URL.createObjectURL(blob);\n",
       "      a.download = filename;\n",
       "      div.appendChild(a);\n",
       "      a.click();\n",
       "      div.remove();\n",
       "    }\n",
       "  "
      ],
      "text/plain": [
       "<IPython.core.display.Javascript object>"
      ]
     },
     "metadata": {},
     "output_type": "display_data"
    },
    {
     "data": {
      "application/javascript": [
       "download(\"download_0c8c2aa7-a4db-4b9f-b921-154719f154cf\", \"fig3.jpg\", 39200)"
      ],
      "text/plain": [
       "<IPython.core.display.Javascript object>"
      ]
     },
     "metadata": {},
     "output_type": "display_data"
    },
    {
     "data": {
      "image/png": "[encoded data removed]",
      "text/plain": [
       "<Figure size 640x480 with 1 Axes>"
      ]
     },
     "metadata": {},
     "output_type": "display_data"
    }
   ],
   "source": [
    "tr_val = pd.DataFrame({\n",
    "    \"Epoch\": range(1, len(history.history[\"mean_squared_error\"]) + 1),\n",
    "    \"Train\": history.history[\"mean_squared_error\"],\n",
    "    \"Val\": history.history[\"val_mean_squared_error\"]\n",
    "})\n",
    "fig = plt.figure()\n",
    "plt.plot(tr_val[\"Epoch\"], tr_val[\"Train\"], color=\"g\", label=\"Train\")\n",
    "plt.plot(tr_val[\"Epoch\"], tr_val[\"Val\"], color=\"b\", label=\"Validation\")\n",
    "plt.ylabel('MSE')\n",
    "plt.xlabel('Number of Epochs')\n",
    "plt.grid()\n",
    "plt.legend(loc=\"best\")\n",
    "fig.savefig('fig3.jpg')\n",
    "from google.colab import files\n",
    "files.download(\"fig3.jpg\")"
   ]
  },
  {
   "cell_type": "code",
   "execution_count": null,
   "metadata": {
    "colab": {
     "base_uri": "https://localhost:8080/",
     "height": 653
    },
    "id": "n_VuflbzECwB",
    "outputId": "fbc92eb7-d105-40bb-ffba-e509df2a030e"
   },
   "outputs": [
    {
     "data": {
      "text/html": [
       "\n",
       "  <div id=\"df-e6fdc138-c9e9-4694-9f0a-3159c0c388a4\">\n",
       "    <div class=\"colab-df-container\">\n",
       "      <div>\n",
       "<style scoped>\n",
       "    .dataframe tbody tr th:only-of-type {\n",
       "        vertical-align: middle;\n",
       "    }\n",
       "\n",
       "    .dataframe tbody tr th {\n",
       "        vertical-align: top;\n",
       "    }\n",
       "\n",
       "    .dataframe thead th {\n",
       "        text-align: right;\n",
       "    }\n",
       "</style>\n",
       "<table border=\"1\" class=\"dataframe\">\n",
       "  <thead>\n",
       "    <tr style=\"text-align: right;\">\n",
       "      <th></th>\n",
       "      <th>Date</th>\n",
       "      <th>SP500</th>\n",
       "      <th>PH_SP500</th>\n",
       "      <th>PL_SP500</th>\n",
       "      <th>MV</th>\n",
       "      <th>DY</th>\n",
       "      <th>PE</th>\n",
       "      <th>Day</th>\n",
       "      <th>Month</th>\n",
       "      <th>Year</th>\n",
       "      <th>...</th>\n",
       "      <th>RV5</th>\n",
       "      <th>RV22</th>\n",
       "      <th>HAR_c</th>\n",
       "      <th>HAR_d</th>\n",
       "      <th>HAR_w</th>\n",
       "      <th>HAR_m</th>\n",
       "      <th>HAR_f</th>\n",
       "      <th>VIX</th>\n",
       "      <th>PH_VIX_t</th>\n",
       "      <th>PL_VIX_t</th>\n",
       "    </tr>\n",
       "  </thead>\n",
       "  <tbody>\n",
       "    <tr>\n",
       "      <th>0</th>\n",
       "      <td>2000-01-03</td>\n",
       "      <td>1455.22</td>\n",
       "      <td>1478.00</td>\n",
       "      <td>1438.36</td>\n",
       "      <td>12192660</td>\n",
       "      <td>1.10</td>\n",
       "      <td>31.3</td>\n",
       "      <td>3</td>\n",
       "      <td>1</td>\n",
       "      <td>2000</td>\n",
       "      <td>...</td>\n",
       "      <td>NaN</td>\n",
       "      <td>NaN</td>\n",
       "      <td>NaN</td>\n",
       "      <td>NaN</td>\n",
       "      <td>NaN</td>\n",
       "      <td>NaN</td>\n",
       "      <td>NaN</td>\n",
       "      <td>24.21</td>\n",
       "      <td>26.15</td>\n",
       "      <td>23.98</td>\n",
       "    </tr>\n",
       "    <tr>\n",
       "      <th>1</th>\n",
       "      <td>2000-01-04</td>\n",
       "      <td>1399.42</td>\n",
       "      <td>1455.22</td>\n",
       "      <td>1397.42</td>\n",
       "      <td>11728700</td>\n",
       "      <td>1.15</td>\n",
       "      <td>30.1</td>\n",
       "      <td>4</td>\n",
       "      <td>1</td>\n",
       "      <td>2000</td>\n",
       "      <td>...</td>\n",
       "      <td>NaN</td>\n",
       "      <td>NaN</td>\n",
       "      <td>NaN</td>\n",
       "      <td>NaN</td>\n",
       "      <td>NaN</td>\n",
       "      <td>NaN</td>\n",
       "      <td>NaN</td>\n",
       "      <td>27.01</td>\n",
       "      <td>27.18</td>\n",
       "      <td>24.80</td>\n",
       "    </tr>\n",
       "    <tr>\n",
       "      <th>2</th>\n",
       "      <td>2000-01-05</td>\n",
       "      <td>1402.11</td>\n",
       "      <td>1413.27</td>\n",
       "      <td>1377.68</td>\n",
       "      <td>11751280</td>\n",
       "      <td>1.15</td>\n",
       "      <td>30.1</td>\n",
       "      <td>5</td>\n",
       "      <td>1</td>\n",
       "      <td>2000</td>\n",
       "      <td>...</td>\n",
       "      <td>NaN</td>\n",
       "      <td>NaN</td>\n",
       "      <td>NaN</td>\n",
       "      <td>NaN</td>\n",
       "      <td>NaN</td>\n",
       "      <td>NaN</td>\n",
       "      <td>NaN</td>\n",
       "      <td>26.41</td>\n",
       "      <td>29.00</td>\n",
       "      <td>25.85</td>\n",
       "    </tr>\n",
       "    <tr>\n",
       "      <th>3</th>\n",
       "      <td>2000-01-06</td>\n",
       "      <td>1403.45</td>\n",
       "      <td>1411.91</td>\n",
       "      <td>1392.02</td>\n",
       "      <td>11766850</td>\n",
       "      <td>1.15</td>\n",
       "      <td>30.0</td>\n",
       "      <td>6</td>\n",
       "      <td>1</td>\n",
       "      <td>2000</td>\n",
       "      <td>...</td>\n",
       "      <td>NaN</td>\n",
       "      <td>NaN</td>\n",
       "      <td>NaN</td>\n",
       "      <td>NaN</td>\n",
       "      <td>NaN</td>\n",
       "      <td>NaN</td>\n",
       "      <td>NaN</td>\n",
       "      <td>25.73</td>\n",
       "      <td>26.71</td>\n",
       "      <td>24.70</td>\n",
       "    </tr>\n",
       "    <tr>\n",
       "      <th>4</th>\n",
       "      <td>2000-01-07</td>\n",
       "      <td>1441.47</td>\n",
       "      <td>1441.47</td>\n",
       "      <td>1400.53</td>\n",
       "      <td>12085680</td>\n",
       "      <td>1.11</td>\n",
       "      <td>31.0</td>\n",
       "      <td>7</td>\n",
       "      <td>1</td>\n",
       "      <td>2000</td>\n",
       "      <td>...</td>\n",
       "      <td>NaN</td>\n",
       "      <td>NaN</td>\n",
       "      <td>NaN</td>\n",
       "      <td>NaN</td>\n",
       "      <td>NaN</td>\n",
       "      <td>NaN</td>\n",
       "      <td>NaN</td>\n",
       "      <td>21.72</td>\n",
       "      <td>25.17</td>\n",
       "      <td>21.72</td>\n",
       "    </tr>\n",
       "    <tr>\n",
       "      <th>...</th>\n",
       "      <td>...</td>\n",
       "      <td>...</td>\n",
       "      <td>...</td>\n",
       "      <td>...</td>\n",
       "      <td>...</td>\n",
       "      <td>...</td>\n",
       "      <td>...</td>\n",
       "      <td>...</td>\n",
       "      <td>...</td>\n",
       "      <td>...</td>\n",
       "      <td>...</td>\n",
       "      <td>...</td>\n",
       "      <td>...</td>\n",
       "      <td>...</td>\n",
       "      <td>...</td>\n",
       "      <td>...</td>\n",
       "      <td>...</td>\n",
       "      <td>...</td>\n",
       "      <td>...</td>\n",
       "      <td>...</td>\n",
       "      <td>...</td>\n",
       "    </tr>\n",
       "    <tr>\n",
       "      <th>5648</th>\n",
       "      <td>2022-06-24</td>\n",
       "      <td>3911.74</td>\n",
       "      <td>3913.65</td>\n",
       "      <td>3821.75</td>\n",
       "      <td>32968140</td>\n",
       "      <td>1.62</td>\n",
       "      <td>19.6</td>\n",
       "      <td>24</td>\n",
       "      <td>6</td>\n",
       "      <td>2022</td>\n",
       "      <td>...</td>\n",
       "      <td>0.043342</td>\n",
       "      <td>0.079191</td>\n",
       "      <td>0.001051</td>\n",
       "      <td>0.505262</td>\n",
       "      <td>0.106462</td>\n",
       "      <td>0.000014</td>\n",
       "      <td>0.016387</td>\n",
       "      <td>27.23</td>\n",
       "      <td>29.72</td>\n",
       "      <td>26.83</td>\n",
       "    </tr>\n",
       "    <tr>\n",
       "      <th>5649</th>\n",
       "      <td>2022-06-27</td>\n",
       "      <td>3900.11</td>\n",
       "      <td>3927.72</td>\n",
       "      <td>3889.66</td>\n",
       "      <td>32870130</td>\n",
       "      <td>1.63</td>\n",
       "      <td>19.5</td>\n",
       "      <td>27</td>\n",
       "      <td>6</td>\n",
       "      <td>2022</td>\n",
       "      <td>...</td>\n",
       "      <td>0.035288</td>\n",
       "      <td>0.079273</td>\n",
       "      <td>0.001064</td>\n",
       "      <td>0.502685</td>\n",
       "      <td>0.107614</td>\n",
       "      <td>0.000014</td>\n",
       "      <td>0.014497</td>\n",
       "      <td>26.95</td>\n",
       "      <td>28.66</td>\n",
       "      <td>26.93</td>\n",
       "    </tr>\n",
       "    <tr>\n",
       "      <th>5650</th>\n",
       "      <td>2022-06-28</td>\n",
       "      <td>3821.55</td>\n",
       "      <td>3945.86</td>\n",
       "      <td>3820.14</td>\n",
       "      <td>32207950</td>\n",
       "      <td>1.66</td>\n",
       "      <td>19.1</td>\n",
       "      <td>28</td>\n",
       "      <td>6</td>\n",
       "      <td>2022</td>\n",
       "      <td>...</td>\n",
       "      <td>0.032960</td>\n",
       "      <td>0.077787</td>\n",
       "      <td>0.001136</td>\n",
       "      <td>0.501805</td>\n",
       "      <td>0.108558</td>\n",
       "      <td>0.000014</td>\n",
       "      <td>0.014911</td>\n",
       "      <td>28.36</td>\n",
       "      <td>28.68</td>\n",
       "      <td>26.47</td>\n",
       "    </tr>\n",
       "    <tr>\n",
       "      <th>5651</th>\n",
       "      <td>2022-06-29</td>\n",
       "      <td>3818.83</td>\n",
       "      <td>3836.50</td>\n",
       "      <td>3799.02</td>\n",
       "      <td>32185090</td>\n",
       "      <td>1.67</td>\n",
       "      <td>19.1</td>\n",
       "      <td>29</td>\n",
       "      <td>6</td>\n",
       "      <td>2022</td>\n",
       "      <td>...</td>\n",
       "      <td>0.030727</td>\n",
       "      <td>0.078308</td>\n",
       "      <td>0.001142</td>\n",
       "      <td>0.497651</td>\n",
       "      <td>0.108943</td>\n",
       "      <td>0.000014</td>\n",
       "      <td>0.012318</td>\n",
       "      <td>28.16</td>\n",
       "      <td>29.36</td>\n",
       "      <td>27.85</td>\n",
       "    </tr>\n",
       "    <tr>\n",
       "      <th>5652</th>\n",
       "      <td>2022-06-30</td>\n",
       "      <td>3785.38</td>\n",
       "      <td>3818.99</td>\n",
       "      <td>3738.67</td>\n",
       "      <td>31903200</td>\n",
       "      <td>1.69</td>\n",
       "      <td>18.9</td>\n",
       "      <td>30</td>\n",
       "      <td>6</td>\n",
       "      <td>2022</td>\n",
       "      <td>...</td>\n",
       "      <td>0.029414</td>\n",
       "      <td>0.078573</td>\n",
       "      <td>0.001173</td>\n",
       "      <td>0.495952</td>\n",
       "      <td>0.110533</td>\n",
       "      <td>0.000014</td>\n",
       "      <td>0.014163</td>\n",
       "      <td>28.71</td>\n",
       "      <td>30.22</td>\n",
       "      <td>28.28</td>\n",
       "    </tr>\n",
       "  </tbody>\n",
       "</table>\n",
       "<p>5653 rows × 29 columns</p>\n",
       "</div>\n",
       "      <button class=\"colab-df-convert\" onclick=\"convertToInteractive('df-e6fdc138-c9e9-4694-9f0a-3159c0c388a4')\"\n",
       "              title=\"Convert this dataframe to an interactive table.\"\n",
       "              style=\"display:none;\">\n",
       "        \n",
       "  <svg xmlns=\"http://www.w3.org/2000/svg\" height=\"24px\"viewBox=\"0 0 24 24\"\n",
       "       width=\"24px\">\n",
       "    <path d=\"M0 0h24v24H0V0z\" fill=\"none\"/>\n",
       "    <path d=\"M18.56 5.44l.94 2.06.94-2.06 2.06-.94-2.06-.94-.94-2.06-.94 2.06-2.06.94zm-11 1L8.5 8.5l.94-2.06 2.06-.94-2.06-.94L8.5 2.5l-.94 2.06-2.06.94zm10 10l.94 2.06.94-2.06 2.06-.94-2.06-.94-.94-2.06-.94 2.06-2.06.94z\"/><path d=\"M17.41 7.96l-1.37-1.37c-.4-.4-.92-.59-1.43-.59-.52 0-1.04.2-1.43.59L10.3 9.45l-7.72 7.72c-.78.78-.78 2.05 0 2.83L4 21.41c.39.39.9.59 1.41.59.51 0 1.02-.2 1.41-.59l7.78-7.78 2.81-2.81c.8-.78.8-2.07 0-2.86zM5.41 20L4 18.59l7.72-7.72 1.47 1.35L5.41 20z\"/>\n",
       "  </svg>\n",
       "      </button>\n",
       "      \n",
       "  <style>\n",
       "    .colab-df-container {\n",
       "      display:flex;\n",
       "      flex-wrap:wrap;\n",
       "      gap: 12px;\n",
       "    }\n",
       "\n",
       "    .colab-df-convert {\n",
       "      background-color: #E8F0FE;\n",
       "      border: none;\n",
       "      border-radius: 50%;\n",
       "      cursor: pointer;\n",
       "      display: none;\n",
       "      fill: #1967D2;\n",
       "      height: 32px;\n",
       "      padding: 0 0 0 0;\n",
       "      width: 32px;\n",
       "    }\n",
       "\n",
       "    .colab-df-convert:hover {\n",
       "      background-color: #E2EBFA;\n",
       "      box-shadow: 0px 1px 2px rgba(60, 64, 67, 0.3), 0px 1px 3px 1px rgba(60, 64, 67, 0.15);\n",
       "      fill: #174EA6;\n",
       "    }\n",
       "\n",
       "    [theme=dark] .colab-df-convert {\n",
       "      background-color: #3B4455;\n",
       "      fill: #D2E3FC;\n",
       "    }\n",
       "\n",
       "    [theme=dark] .colab-df-convert:hover {\n",
       "      background-color: #434B5C;\n",
       "      box-shadow: 0px 1px 3px 1px rgba(0, 0, 0, 0.15);\n",
       "      filter: drop-shadow(0px 1px 2px rgba(0, 0, 0, 0.3));\n",
       "      fill: #FFFFFF;\n",
       "    }\n",
       "  </style>\n",
       "\n",
       "      <script>\n",
       "        const buttonEl =\n",
       "          document.querySelector('#df-e6fdc138-c9e9-4694-9f0a-3159c0c388a4 button.colab-df-convert');\n",
       "        buttonEl.style.display =\n",
       "          google.colab.kernel.accessAllowed ? 'block' : 'none';\n",
       "\n",
       "        async function convertToInteractive(key) {\n",
       "          const element = document.querySelector('#df-e6fdc138-c9e9-4694-9f0a-3159c0c388a4');\n",
       "          const dataTable =\n",
       "            await google.colab.kernel.invokeFunction('convertToInteractive',\n",
       "                                                     [key], {});\n",
       "          if (!dataTable) return;\n",
       "\n",
       "          const docLinkHtml = 'Like what you see? Visit the ' +\n",
       "            '<a target=\"_blank\" href=https://colab.research.google.com/notebooks/data_table.ipynb>data table notebook</a>'\n",
       "            + ' to learn more about interactive tables.';\n",
       "          element.innerHTML = '';\n",
       "          dataTable['output_type'] = 'display_data';\n",
       "          await google.colab.output.renderOutput(dataTable, element);\n",
       "          const docLink = document.createElement('div');\n",
       "          docLink.innerHTML = docLinkHtml;\n",
       "          element.appendChild(docLink);\n",
       "        }\n",
       "      </script>\n",
       "    </div>\n",
       "  </div>\n",
       "  "
      ],
      "text/plain": [
       "           Date    SP500  PH_SP500  PL_SP500        MV    DY    PE  Day  \\\n",
       "0    2000-01-03  1455.22   1478.00   1438.36  12192660  1.10  31.3    3   \n",
       "1    2000-01-04  1399.42   1455.22   1397.42  11728700  1.15  30.1    4   \n",
       "2    2000-01-05  1402.11   1413.27   1377.68  11751280  1.15  30.1    5   \n",
       "3    2000-01-06  1403.45   1411.91   1392.02  11766850  1.15  30.0    6   \n",
       "4    2000-01-07  1441.47   1441.47   1400.53  12085680  1.11  31.0    7   \n",
       "...         ...      ...       ...       ...       ...   ...   ...  ...   \n",
       "5648 2022-06-24  3911.74   3913.65   3821.75  32968140  1.62  19.6   24   \n",
       "5649 2022-06-27  3900.11   3927.72   3889.66  32870130  1.63  19.5   27   \n",
       "5650 2022-06-28  3821.55   3945.86   3820.14  32207950  1.66  19.1   28   \n",
       "5651 2022-06-29  3818.83   3836.50   3799.02  32185090  1.67  19.1   29   \n",
       "5652 2022-06-30  3785.38   3818.99   3738.67  31903200  1.69  18.9   30   \n",
       "\n",
       "      Month  Year  ...       RV5      RV22     HAR_c     HAR_d     HAR_w  \\\n",
       "0         1  2000  ...       NaN       NaN       NaN       NaN       NaN   \n",
       "1         1  2000  ...       NaN       NaN       NaN       NaN       NaN   \n",
       "2         1  2000  ...       NaN       NaN       NaN       NaN       NaN   \n",
       "3         1  2000  ...       NaN       NaN       NaN       NaN       NaN   \n",
       "4         1  2000  ...       NaN       NaN       NaN       NaN       NaN   \n",
       "...     ...   ...  ...       ...       ...       ...       ...       ...   \n",
       "5648      6  2022  ...  0.043342  0.079191  0.001051  0.505262  0.106462   \n",
       "5649      6  2022  ...  0.035288  0.079273  0.001064  0.502685  0.107614   \n",
       "5650      6  2022  ...  0.032960  0.077787  0.001136  0.501805  0.108558   \n",
       "5651      6  2022  ...  0.030727  0.078308  0.001142  0.497651  0.108943   \n",
       "5652      6  2022  ...  0.029414  0.078573  0.001173  0.495952  0.110533   \n",
       "\n",
       "         HAR_m     HAR_f    VIX  PH_VIX_t  PL_VIX_t  \n",
       "0          NaN       NaN  24.21     26.15     23.98  \n",
       "1          NaN       NaN  27.01     27.18     24.80  \n",
       "2          NaN       NaN  26.41     29.00     25.85  \n",
       "3          NaN       NaN  25.73     26.71     24.70  \n",
       "4          NaN       NaN  21.72     25.17     21.72  \n",
       "...        ...       ...    ...       ...       ...  \n",
       "5648  0.000014  0.016387  27.23     29.72     26.83  \n",
       "5649  0.000014  0.014497  26.95     28.66     26.93  \n",
       "5650  0.000014  0.014911  28.36     28.68     26.47  \n",
       "5651  0.000014  0.012318  28.16     29.36     27.85  \n",
       "5652  0.000014  0.014163  28.71     30.22     28.28  \n",
       "\n",
       "[5653 rows x 29 columns]"
      ]
     },
     "execution_count": 11,
     "metadata": {},
     "output_type": "execute_result"
    }
   ],
   "source": [
    "data = pd.read_excel(\"Data_Prepared.xlsx\")\n",
    "data"
   ]
  },
  {
   "cell_type": "code",
   "execution_count": null,
   "metadata": {
    "colab": {
     "base_uri": "https://localhost:8080/",
     "height": 447
    },
    "id": "LrGIpPdLFMtm",
    "outputId": "e197ac52-df7e-48dd-c3a8-3353583b69a7"
   },
   "outputs": [
    {
     "data": {
      "text/plain": [
       "<matplotlib.legend.Legend at 0x7f66fd1ad760>"
      ]
     },
     "execution_count": 43,
     "metadata": {},
     "output_type": "execute_result"
    },
    {
     "data": {
      "image/png": "[encoded data removed]",
      "text/plain": [
       "<Figure size 640x480 with 1 Axes>"
      ]
     },
     "metadata": {},
     "output_type": "display_data"
    }
   ],
   "source": [
    "tr_fr = 0.8\n",
    "dates = data[\"Date\"].values\n",
    "dates = dates[round(len(dates)*tr_fr):len(dates)-1]\n",
    "RV_lstm = data[\"HAR_f\"].values\n",
    "RV_lstm = RV_lstm[round(len(RV_lstm)*tr_fr):len(RV_lstm)-1]\n",
    "RVfact = np.sqrt(data[\"RV\"].values)\n",
    "RVfact = RVfact[round(len(RVfact)*tr_fr)+1:len(RVfact)]\n",
    "data2 = pd.read_excel(\"Data_Prepared_2.xlsx\")\n",
    "RV_garch = np.sqrt(data2[\"ht_hat\"].values)\n",
    "ht_hat = np.sqrt(data2[\"ht_hat\"].values)\n",
    "ht_hat = ht_hat[round(len(ht_hat)*tr_fr)+1:len(ht_hat)]\n",
    "RV_garch = RV_garch[round(len(RV_garch)*tr_fr):len(RV_garch)-1]\n",
    "plt.plot(dates, RVfact, color=\"g\", label=\"Realised Volatility\")\n",
    "plt.plot(dates, RV_lstm, color=\"b\", label=\"LSTM\")\n",
    "plt.plot(dates, ht_hat, color=\"m\", label=\"GARCH(1,1)\")\n",
    "plt.ylabel('Volatility')\n",
    "plt.grid()\n",
    "plt.legend(loc=\"best\")"
   ]
  },
  {
   "cell_type": "code",
   "execution_count": null,
   "metadata": {
    "colab": {
     "base_uri": "https://localhost:8080/"
    },
    "id": "FENGad5oTBHW",
    "outputId": "883ab3a9-310c-44d6-91de-74cf264d7475"
   },
   "outputs": [
    {
     "data": {
      "text/plain": [
       "0.0030058357474380243"
      ]
     },
     "execution_count": 42,
     "metadata": {},
     "output_type": "execute_result"
    }
   ],
   "source": [
    "RVpred = np.sqrt(data2[\"ht_hat\"].values)\n",
    "RVpred = RVpred[round(len(RVpred)*tr_fr)+1:len(RVpred)]\n",
    "RVfact = np.sqrt(data[\"RV\"].values)\n",
    "RVfact = RVfact[round(len(RVfact)*tr_fr)+1:len(RVfact)]\n",
    "MSE = np.mean(np.square(RVfact-RVpred))\n",
    "MSE * 100"
   ]
  },
  {
   "cell_type": "code",
   "execution_count": null,
   "metadata": {
    "colab": {
     "base_uri": "https://localhost:8080/",
     "height": 441
    },
    "id": "_4atAgriUkEg",
    "outputId": "7da8fc6b-e9a4-432a-c0c7-82144abb4eae"
   },
   "outputs": [
    {
     "data": {
      "application/javascript": [
       "\n",
       "    async function download(id, filename, size) {\n",
       "      if (!google.colab.kernel.accessAllowed) {\n",
       "        return;\n",
       "      }\n",
       "      const div = document.createElement('div');\n",
       "      const label = document.createElement('label');\n",
       "      label.textContent = `Downloading \"${filename}\": `;\n",
       "      div.appendChild(label);\n",
       "      const progress = document.createElement('progress');\n",
       "      progress.max = size;\n",
       "      div.appendChild(progress);\n",
       "      document.body.appendChild(div);\n",
       "\n",
       "      const buffers = [];\n",
       "      let downloaded = 0;\n",
       "\n",
       "      const channel = await google.colab.kernel.comms.open(id);\n",
       "      // Send a message to notify the kernel that we're ready.\n",
       "      channel.send({})\n",
       "\n",
       "      for await (const message of channel.messages) {\n",
       "        // Send a message to notify the kernel that we're ready.\n",
       "        channel.send({})\n",
       "        if (message.buffers) {\n",
       "          for (const buffer of message.buffers) {\n",
       "            buffers.push(buffer);\n",
       "            downloaded += buffer.byteLength;\n",
       "            progress.value = downloaded;\n",
       "          }\n",
       "        }\n",
       "      }\n",
       "      const blob = new Blob(buffers, {type: 'application/binary'});\n",
       "      const a = document.createElement('a');\n",
       "      a.href = window.URL.createObjectURL(blob);\n",
       "      a.download = filename;\n",
       "      div.appendChild(a);\n",
       "      a.click();\n",
       "      div.remove();\n",
       "    }\n",
       "  "
      ],
      "text/plain": [
       "<IPython.core.display.Javascript object>"
      ]
     },
     "metadata": {},
     "output_type": "display_data"
    },
    {
     "data": {
      "application/javascript": [
       "download(\"download_ee72d218-36fa-485b-a0b2-a199dd182047\", \"fig4.jpg\", 38258)"
      ],
      "text/plain": [
       "<IPython.core.display.Javascript object>"
      ]
     },
     "metadata": {},
     "output_type": "display_data"
    },
    {
     "data": {
      "image/png": "[encoded data removed]",
      "text/plain": [
       "<Figure size 640x480 with 1 Axes>"
      ]
     },
     "metadata": {},
     "output_type": "display_data"
    }
   ],
   "source": [
    "tr_fr = 0.7\n",
    "dates = data[\"Date\"].values\n",
    "dates = dates[round(len(dates)*tr_fr):len(dates)-1]\n",
    "RV_lstm = data[\"HAR_f\"].values\n",
    "RV_lstm = RV_lstm[round(len(RV_lstm)*tr_fr):len(RV_lstm)-1]\n",
    "RVfact = np.sqrt(data[\"RV\"].values)\n",
    "RVfact = RVfact[round(len(RVfact)*tr_fr)+1:len(RVfact)]\n",
    "RV_garch = np.sqrt(data2[\"ht_hat\"].values)\n",
    "RV_garch = RV_garch[round(len(RV_garch)*tr_fr):len(RV_garch)-1]\n",
    "fig = plt.figure()\n",
    "plt.plot(dates, RVfact, color=\"g\", label=\"Realised Volatility\")\n",
    "plt.plot(dates, RV_lstm, color=\"b\", label=\"LSTM\")\n",
    "plt.plot(dates, RV_garch, color=\"m\", label=\"GARCH(1,1)\")\n",
    "plt.ylabel('Volatility')\n",
    "plt.xticks(rotation=20)\n",
    "plt.grid()\n",
    "plt.legend(loc=\"best\")\n",
    "fig.savefig('fig4.jpg')\n",
    "from google.colab import files\n",
    "files.download(\"fig4.jpg\")"
   ]
  },
  {
   "cell_type": "code",
   "execution_count": null,
   "metadata": {
    "id": "owKPd1M2Tr3k"
   },
   "outputs": [],
   "source": [
    "from scipy.stats import norm\n",
    "d = (RV_lstm-RVfact)**2 - (RV_garch-RVfact)**2\n",
    "bar_d = np.mean(d)\n",
    "var_d = np.var(d) # population variance\n",
    "h = 1 # lag\n",
    "gamma = np.zeros((h-1,1))\n",
    "for i in range(h-1):\n",
    "    gamma[i] = np.dot(d[1+i:len(RVfact)].T, d[:len(RVfact)-i-1]) / len(RVfact)\n",
    "var_d = var_d + 2*sum(gamma)\n",
    "DM = bar_d / np.sqrt(var_d/len(RVfact))\n",
    "pvalue = 1-norm.cdf(np.abs(DM))"
   ]
  },
  {
   "cell_type": "code",
   "execution_count": null,
   "metadata": {
    "colab": {
     "base_uri": "https://localhost:8080/"
    },
    "id": "8akBk5-8U5bu",
    "outputId": "f64c7e81-6480-4b5c-f4b5-2b8dbe798f8c"
   },
   "outputs": [
    {
     "data": {
      "text/plain": [
       "0.09342036500008521"
      ]
     },
     "execution_count": 16,
     "metadata": {},
     "output_type": "execute_result"
    }
   ],
   "source": [
    "pvalue"
   ]
  },
  {
   "cell_type": "code",
   "execution_count": null,
   "metadata": {
    "colab": {
     "base_uri": "https://localhost:8080/"
    },
    "id": "t_wlKpRrczMo",
    "outputId": "f2ad98c3-464b-4302-81e7-5e8361aa1f2f"
   },
   "outputs": [
    {
     "data": {
      "text/plain": [
       "-1.3199828919074181"
      ]
     },
     "execution_count": 17,
     "metadata": {},
     "output_type": "execute_result"
    }
   ],
   "source": [
    "DM"
   ]
  },
  {
   "cell_type": "code",
   "execution_count": null,
   "metadata": {
    "colab": {
     "base_uri": "https://localhost:8080/"
    },
    "id": "gnTlwe2eU8_o",
    "outputId": "39679838-ea35-433b-b568-10f6aa53190e"
   },
   "outputs": [
    {
     "data": {
      "text/plain": [
       "1.3763626417300464e-05"
      ]
     },
     "execution_count": 80,
     "metadata": {},
     "output_type": "execute_result"
    }
   ],
   "source": [
    "np.dot(d.T,d)"
   ]
  },
  {
   "cell_type": "code",
   "execution_count": null,
   "metadata": {
    "colab": {
     "base_uri": "https://localhost:8080/"
    },
    "id": "6GxBv-p_dJio",
    "outputId": "f33c1a70-b6c3-4b07-8b91-45f4027d1b21"
   },
   "outputs": [
    {
     "data": {
      "text/plain": [
       "3.215642937576685e-05"
      ]
     },
     "execution_count": 12,
     "metadata": {},
     "output_type": "execute_result"
    }
   ],
   "source": [
    "np.mean((RV_lstm-RVfact)**2)"
   ]
  },
  {
   "cell_type": "code",
   "execution_count": null,
   "metadata": {
    "colab": {
     "base_uri": "https://localhost:8080/"
    },
    "id": "yWuAd6DEdMFA",
    "outputId": "0799c802-54bd-469d-8f32-b82228bab567"
   },
   "outputs": [
    {
     "data": {
      "text/plain": [
       "3.467217668134386e-05"
      ]
     },
     "execution_count": 13,
     "metadata": {},
     "output_type": "execute_result"
    }
   ],
   "source": [
    "np.mean((RV_garch-RVfact)**2)"
   ]
  }
 ],
 "metadata": {
  "colab": {
   "provenance": []
  },
  "kernelspec": {
   "display_name": "Python 3 (ipykernel)",
   "language": "python",
   "name": "python3"
  },
  "language_info": {
   "codemirror_mode": {
    "name": "ipython",
    "version": 3
   },
   "file_extension": ".py",
   "mimetype": "text/x-python",
   "name": "python",
   "nbconvert_exporter": "python",
   "pygments_lexer": "ipython3",
   "version": "3.9.13"
  }
 },
 "nbformat": 4,
 "nbformat_minor": 1
}
